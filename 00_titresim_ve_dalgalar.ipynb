{
 "cells": [
  {
   "cell_type": "markdown",
   "metadata": {},
   "source": [
    "<br>\n",
    "<b>\n",
    "<font size=\"7\" face='bold' color=\"blue\">TİTREŞİM ve DALGAR / FİZ220 </font> \n",
    "<br><br>\n",
    "<font size=\"6\"> Yrd. Doç. Dr. Mesut Karakoç </font>\n",
    "</b>\n",
    "<br><br>\n",
    "<font size=\"5\" color=\"black\"> \n",
    "Akdeniz Üniversitesi, Fen Fakültesi, Fizik Bölümü <br>\n",
    "    \n",
    "2017 - 2018 Bahar Dönemi \n",
    "</font>\n",
    "<br><br>\n",
    "\n",
    "[//]: # (Resim aşağıdaki linkten alınmıştır.)\n",
    "[//]: # (https://upload.wikimedia.org/wikipedia/commons/1/1e/2010_mavericks_competition.jpg)\n",
    "\n",
    "<img width=700 src='./sekiller/2010_mavericks_competition.jpg'>\n"
   ]
  },
  {
   "cell_type": "markdown",
   "metadata": {},
   "source": [
    "# Ders Bilgileri\n",
    "\n",
    "## Haftalık Ders Programı\n",
    "\n",
    "Gün, Saat, Derslik:\n",
    "- Pazartesi, 15:30-17:20, D6\n",
    "- Çarşamba, 15:30-17:20, D6\n",
    "- Perşembe, 15:30-17:20, D5\n",
    "\n",
    "## Ders Başarı Puanı Dağılımları\n",
    "1. Ödev, %20\n",
    "2. Ara Sınav, %30\n",
    "3. Yarıyıl Sonu Sınavı, %50\n",
    "\n",
    "Lisans Eğitim-Öğretim ve Sınav Yönetmeliğine aşağıdaki bağlantıdan ulaşılabilir.  \n",
    "http://oidb.akdeniz.edu.tr/yonetmelik-ve-yonergeler/\n",
    "\n",
    "## Kaynak Kitaplar\n",
    "1. **Dalgalar**, Frank S. Crawford jr., Berkeley Fizik Dersleri 3. Cilt, Bilim Yayınevi.\n",
    "2. **Titreşimler ve Dalgalar**, George C. King, Nobel Akademik Yayıncılık.\n",
    "3. **Titreşimler ve Dalgalar**, A.P. French, Aktif Yayın Evi.\n",
    "4. **Titreşimler ve Dalgalar**, Gökhan Budak, Yüksel Özdemir, , Nobel Akademik Yayıncılık.\n",
    "\n",
    "## İnternet Kaynakları\n",
    "1. [8.03 - MIT Physics III: Vibrations and Waves]( https://www.youtube.com/playlist?list=PLyQSN7X0ro22WeXM2QCKJm2NP_xHpGV89), Walter Lewin'in İngilizce video dersleri.\n",
    "2. [Dr. Mustafa POLAT'ın Titreşim ve Dalgar Ders Notu.](http://yunus.hacettepe.edu.tr/~polat/FIZ217-DERS-NOTLARI.pdf)"
   ]
  },
  {
   "cell_type": "markdown",
   "metadata": {},
   "source": [
    "# Ders İçeriğinin Ana Bölümleri\n",
    "1. BASİT SİSTEMLERİN SERBEST SALINIMLARI\n",
    "2. ÇOK SERBESTLİK DERECELİ SİSTEMLERİN SERBEST SALIMLARI\n",
    "3. ZORLA TİTREŞİMLER\n",
    "4. İLERLEYEN DALGALAR\n",
    "5. YANSIMA\n",
    "6. MODÜLASYONLAR,ATMALAR VE DALGA PAKETLERİ\n",
    "7. İKİ VE ÜÇ BOYUTLU DALGALAR\n",
    "8. KUTUPLANMA\n",
    "9. GİRİŞİM VE KIRINIM\n",
    "\n",
    "**Not:** Bu içerik gerekli görüldükçe güncellenebilir."
   ]
  },
  {
   "cell_type": "markdown",
   "metadata": {},
   "source": [
    "<table>\n",
    "  <tr>\n",
    "    <th>[<button><i class=\"fa fa-arrow-circle-right fa-2x\" style=\"color: firebrick; vertical-align: middle;\"></i> Önceki Sayfa</button> ](./00_titresim_ve_dalgalar.ipynb)</th>\n",
    "    <th>&nbsp;&nbsp;&nbsp;&nbsp;&nbsp;&nbsp;&nbsp;&nbsp;&nbsp;&nbsp;</th>     \n",
    "    <th>[<button><i class=\"fa fa-home fa-2x\" style=\"color: firebrick; vertical-align: middle;\"></i> Ana Sayfa</button> ](./00_titresim_ve_dalgalar.ipynb)</th>\n",
    "    <th>&nbsp;&nbsp;&nbsp;&nbsp;&nbsp;&nbsp;&nbsp;&nbsp;&nbsp;&nbsp;</th>  \n",
    "    <th>[<button>Sonraki Sayfa <i class=\"fa fa-arrow-circle-right fa-2x\" style=\"color: firebrick; vertical-align: middle;\"></i></button>](./01_titresim_ve_dalgalar.ipynb)</th>\n",
    "  </tr>\n",
    "</table>\n",
    "\n",
    "\n",
    "\n"
   ]
  },
  {
   "cell_type": "code",
   "execution_count": null,
   "metadata": {},
   "outputs": [],
   "source": []
  }
 ],
 "metadata": {
  "hide_input": false,
  "kernelspec": {
   "display_name": "Python 2",
   "language": "python",
   "name": "python2"
  },
  "language_info": {
   "codemirror_mode": {
    "name": "ipython",
    "version": 2
   },
   "file_extension": ".py",
   "mimetype": "text/x-python",
   "name": "python",
   "nbconvert_exporter": "python",
   "pygments_lexer": "ipython2",
   "version": "2.7.6"
  },
  "toc": {
   "collapse_to_match_collapsible_headings": true,
   "colors": {
    "hover_highlight": "#DAA520",
    "running_highlight": "#FF0000",
    "selected_highlight": "#FFD700"
   },
   "moveMenuLeft": true,
   "nav_menu": {
    "height": "48px",
    "width": "252px"
   },
   "navigate_menu": true,
   "number_sections": true,
   "sideBar": true,
   "threshold": 4,
   "toc_cell": false,
   "toc_section_display": "block",
   "toc_window_display": true
  },
  "varInspector": {
   "cols": {
    "lenName": 16,
    "lenType": 16,
    "lenVar": 40
   },
   "kernels_config": {
    "python": {
     "delete_cmd_postfix": "",
     "delete_cmd_prefix": "del ",
     "library": "var_list.py",
     "varRefreshCmd": "print(var_dic_list())"
    },
    "r": {
     "delete_cmd_postfix": ") ",
     "delete_cmd_prefix": "rm(",
     "library": "var_list.r",
     "varRefreshCmd": "cat(var_dic_list()) "
    }
   },
   "types_to_exclude": [
    "module",
    "function",
    "builtin_function_or_method",
    "instance",
    "_Feature"
   ],
   "window_display": false
  }
 },
 "nbformat": 4,
 "nbformat_minor": 2
}
