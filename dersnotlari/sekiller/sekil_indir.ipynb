{
 "cells": [
  {
   "cell_type": "code",
   "execution_count": 67,
   "metadata": {
    "ExecuteTime": {
     "end_time": "2018-02-04T17:40:23.267269Z",
     "start_time": "2018-02-04T17:40:23.259414Z"
    }
   },
   "outputs": [],
   "source": [
    "link = 'https://upload.wikimedia.org/wikipedia/commons/1/1d/Tuned_circuit_animation_3.gif'\n",
    "filename = link.split('/')[-1]\n",
    "ext = filename.split('.')[-1]"
   ]
  },
  {
   "cell_type": "code",
   "execution_count": 68,
   "metadata": {
    "ExecuteTime": {
     "end_time": "2018-02-04T17:40:25.659586Z",
     "start_time": "2018-02-04T17:40:24.020498Z"
    }
   },
   "outputs": [
    {
     "name": "stdout",
     "output_type": "stream",
     "text": [
      "--2018-02-04 20:40:24--  https://upload.wikimedia.org/wikipedia/commons/1/1d/Tuned_circuit_animation_3.gif\n",
      "Resolving upload.wikimedia.org (upload.wikimedia.org)... 198.35.26.112, 2620:0:863:ed1a::2:b\n",
      "Connecting to upload.wikimedia.org (upload.wikimedia.org)|198.35.26.112|:443... connected.\n",
      "HTTP request sent, awaiting response... 200 OK\n",
      "Length: 183760 (179K) [image/gif]\n",
      "Saving to: ‘Tuned_circuit_animation_3.gif’\n",
      "\n",
      "100%[======================================>] 183.760      259KB/s   in 0,7s   \n",
      "\n",
      "2018-02-04 20:40:25 (259 KB/s) - ‘Tuned_circuit_animation_3.gif’ saved [183760/183760]\n",
      "\n"
     ]
    }
   ],
   "source": [
    "#wget -e robots=off --wait 1\n",
    "!wget $link"
   ]
  },
  {
   "cell_type": "code",
   "execution_count": 69,
   "metadata": {
    "ExecuteTime": {
     "end_time": "2018-02-04T17:40:27.001410Z",
     "start_time": "2018-02-04T17:40:26.877172Z"
    }
   },
   "outputs": [
    {
     "name": "stdout",
     "output_type": "stream",
     "text": [
      "\u001b[01;34m.\u001b[00m\r\n",
      "├── \u001b[01;35m2010_mavericks_competition.jpg\u001b[00m\r\n",
      "├── \u001b[01;35mbasit_harmonik_hareket.png\u001b[00m\r\n",
      "├── \u001b[01;35mbutterfly_pupa.jpg\u001b[00m\r\n",
      "├── \u001b[01;35mearth_vibration_mods.gif\u001b[00m\r\n",
      "├── \u001b[01;35mfetus_heartbeat.gif\u001b[00m\r\n",
      "├── \u001b[01;35mneutron_star_vibrations.png\u001b[00m\r\n",
      "├── sekil_indir.ipynb\r\n",
      "└── \u001b[01;35mTuned_circuit_animation_3.gif\u001b[00m\r\n",
      "\r\n",
      "0 directories, 8 files\r\n"
     ]
    }
   ],
   "source": [
    "!tree -L 1"
   ]
  },
  {
   "cell_type": "code",
   "execution_count": 70,
   "metadata": {
    "ExecuteTime": {
     "end_time": "2018-02-04T17:41:01.532099Z",
     "start_time": "2018-02-04T17:41:01.407827Z"
    }
   },
   "outputs": [],
   "source": [
    "!mv $filename LC_circuit.$ext"
   ]
  },
  {
   "cell_type": "code",
   "execution_count": 71,
   "metadata": {
    "ExecuteTime": {
     "end_time": "2018-02-04T17:41:02.299991Z",
     "start_time": "2018-02-04T17:41:02.177411Z"
    }
   },
   "outputs": [
    {
     "name": "stdout",
     "output_type": "stream",
     "text": [
      "\u001b[01;34m.\u001b[00m\r\n",
      "├── \u001b[01;35m2010_mavericks_competition.jpg\u001b[00m\r\n",
      "├── \u001b[01;35mbasit_harmonik_hareket.png\u001b[00m\r\n",
      "├── \u001b[01;35mbutterfly_pupa.jpg\u001b[00m\r\n",
      "├── \u001b[01;35mearth_vibration_mods.gif\u001b[00m\r\n",
      "├── \u001b[01;35mfetus_heartbeat.gif\u001b[00m\r\n",
      "├── \u001b[01;35mLC_circuit.gif\u001b[00m\r\n",
      "├── \u001b[01;35mneutron_star_vibrations.png\u001b[00m\r\n",
      "└── sekil_indir.ipynb\r\n",
      "\r\n",
      "0 directories, 8 files\r\n"
     ]
    }
   ],
   "source": [
    "!tree -L 1"
   ]
  },
  {
   "cell_type": "code",
   "execution_count": null,
   "metadata": {},
   "outputs": [],
   "source": []
  },
  {
   "cell_type": "code",
   "execution_count": null,
   "metadata": {},
   "outputs": [],
   "source": []
  },
  {
   "cell_type": "code",
   "execution_count": null,
   "metadata": {},
   "outputs": [],
   "source": []
  },
  {
   "cell_type": "code",
   "execution_count": 66,
   "metadata": {
    "ExecuteTime": {
     "end_time": "2018-02-04T15:10:06.653743Z",
     "start_time": "2018-02-04T15:10:06.640123Z"
    }
   },
   "outputs": [
    {
     "data": {
      "text/html": [
       "<!DOCTYPE html>\n",
       "<html>\n",
       "<head>\n",
       "<style>\n",
       "ul.a {\n",
       "    list-style-type: circle;\n",
       "}\n",
       "\n",
       "ul.b {\n",
       "    list-style-type: square;\n",
       "}\n",
       "\n",
       "ol.c {\n",
       "    list-style-type: upper-roman;\n",
       "}\n",
       "\n",
       "ol.d {\n",
       "    list-style-type: lower-alpha;\n",
       "}\n",
       "</style>\n",
       "</head>\n",
       "<body>\n",
       "\n",
       "<p>Example of unordered lists:</p>\n",
       "<ul class=\"a\">\n",
       "  <li>Coffee</li>\n",
       "  <li>Tea</li>\n",
       "  <li>Coca Cola</li>\n",
       "</ul>\n",
       "\n",
       "<ul class=\"b\">\n",
       "  <li>Coffee</li>\n",
       "  <li>Tea</li>\n",
       "  <li>Coca Cola</li>\n",
       "</ul>\n",
       "\n",
       "<p>Example of ordered lists:</p>\n",
       "<ol class=\"c\">\n",
       "  <li>Coffee</li>\n",
       "  <li>Tea</li>\n",
       "  <li>Coca Cola</li>\n",
       "</ol>\n",
       "\n",
       "<ol class=\"d\">\n",
       "  <li>Coffee</li>\n",
       "  <li>Tea</li>\n",
       "  <li>Coca Cola</li>\n",
       "</ol>\n",
       "\n",
       "</body>\n",
       "</html>"
      ],
      "text/plain": [
       "<IPython.core.display.HTML object>"
      ]
     },
     "metadata": {},
     "output_type": "display_data"
    }
   ],
   "source": [
    "%%HTML\n",
    "<!DOCTYPE html>\n",
    "<html>\n",
    "<head>\n",
    "<style>\n",
    "ul.a {\n",
    "    list-style-type: circle;\n",
    "}\n",
    "\n",
    "ul.b {\n",
    "    list-style-type: square;\n",
    "}\n",
    "\n",
    "ol.c {\n",
    "    list-style-type: upper-roman;\n",
    "}\n",
    "\n",
    "ol.d {\n",
    "    list-style-type: lower-alpha;\n",
    "}\n",
    "</style>\n",
    "</head>\n",
    "<body>\n",
    "\n",
    "<p>Example of unordered lists:</p>\n",
    "<ul class=\"a\">\n",
    "  <li>Coffee</li>\n",
    "  <li>Tea</li>\n",
    "  <li>Coca Cola</li>\n",
    "</ul>\n",
    "\n",
    "<ul class=\"b\">\n",
    "  <li>Coffee</li>\n",
    "  <li>Tea</li>\n",
    "  <li>Coca Cola</li>\n",
    "</ul>\n",
    "\n",
    "<p>Example of ordered lists:</p>\n",
    "<ol class=\"c\">\n",
    "  <li>Coffee</li>\n",
    "  <li>Tea</li>\n",
    "  <li>Coca Cola</li>\n",
    "</ol>\n",
    "\n",
    "<ol class=\"d\">\n",
    "  <li>Coffee</li>\n",
    "  <li>Tea</li>\n",
    "  <li>Coca Cola</li>\n",
    "</ol>\n",
    "\n",
    "</body>\n",
    "</html>\n"
   ]
  },
  {
   "cell_type": "code",
   "execution_count": null,
   "metadata": {},
   "outputs": [],
   "source": []
  }
 ],
 "metadata": {
  "hide_input": false,
  "kernelspec": {
   "display_name": "Python 2",
   "language": "python",
   "name": "python2"
  },
  "language_info": {
   "codemirror_mode": {
    "name": "ipython",
    "version": 2
   },
   "file_extension": ".py",
   "mimetype": "text/x-python",
   "name": "python",
   "nbconvert_exporter": "python",
   "pygments_lexer": "ipython2",
   "version": "2.7.6"
  },
  "toc": {
   "collapse_to_match_collapsible_headings": false,
   "colors": {
    "hover_highlight": "#DAA520",
    "running_highlight": "#FF0000",
    "selected_highlight": "#FFD700"
   },
   "moveMenuLeft": true,
   "nav_menu": {
    "height": "12px",
    "width": "252px"
   },
   "navigate_menu": true,
   "number_sections": true,
   "sideBar": true,
   "threshold": 4,
   "toc_cell": false,
   "toc_section_display": "block",
   "toc_window_display": false
  },
  "varInspector": {
   "cols": {
    "lenName": 16,
    "lenType": 16,
    "lenVar": 40
   },
   "kernels_config": {
    "python": {
     "delete_cmd_postfix": "",
     "delete_cmd_prefix": "del ",
     "library": "var_list.py",
     "varRefreshCmd": "print(var_dic_list())"
    },
    "r": {
     "delete_cmd_postfix": ") ",
     "delete_cmd_prefix": "rm(",
     "library": "var_list.r",
     "varRefreshCmd": "cat(var_dic_list()) "
    }
   },
   "types_to_exclude": [
    "module",
    "function",
    "builtin_function_or_method",
    "instance",
    "_Feature"
   ],
   "window_display": false
  }
 },
 "nbformat": 4,
 "nbformat_minor": 2
}
