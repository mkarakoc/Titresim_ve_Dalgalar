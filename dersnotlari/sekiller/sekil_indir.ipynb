{
 "cells": [
  {
   "cell_type": "code",
   "execution_count": 1,
   "metadata": {
    "ExecuteTime": {
     "end_time": "2018-02-07T08:08:15.143101Z",
     "start_time": "2018-02-07T08:08:15.134785Z"
    }
   },
   "outputs": [],
   "source": [
    "link = 'https://www.ux1.eiu.edu/~cfadd/1350/13Oscill/Images/UCM1.gif'\n",
    "filename = link.split('/')[-1]\n",
    "ext = filename.split('.')[-1]"
   ]
  },
  {
   "cell_type": "code",
   "execution_count": 2,
   "metadata": {
    "ExecuteTime": {
     "end_time": "2018-02-07T08:08:17.284535Z",
     "start_time": "2018-02-07T08:08:16.421958Z"
    }
   },
   "outputs": [
    {
     "name": "stdout",
     "output_type": "stream",
     "text": [
      "--2018-02-07 11:08:16--  https://www.ux1.eiu.edu/~cfadd/1350/13Oscill/Images/UCM1.gif\n",
      "Resolving www.ux1.eiu.edu (www.ux1.eiu.edu)... 139.67.8.135\n",
      "Connecting to www.ux1.eiu.edu (www.ux1.eiu.edu)|139.67.8.135|:443... connected.\n",
      "HTTP request sent, awaiting response... 200 OK\n",
      "Length: 4201 (4,1K) [image/gif]\n",
      "Saving to: ‘UCM1.gif’\n",
      "\n",
      "100%[======================================>] 4.201       --.-K/s   in 0,001s  \n",
      "\n",
      "2018-02-07 11:08:17 (3,37 MB/s) - ‘UCM1.gif’ saved [4201/4201]\n",
      "\n"
     ]
    }
   ],
   "source": [
    "#wget -e robots=off --wait 1\n",
    "!wget $link"
   ]
  },
  {
   "cell_type": "code",
   "execution_count": 3,
   "metadata": {
    "ExecuteTime": {
     "end_time": "2018-02-07T08:08:19.102578Z",
     "start_time": "2018-02-07T08:08:18.982045Z"
    }
   },
   "outputs": [
    {
     "name": "stdout",
     "output_type": "stream",
     "text": [
      "\u001b[01;34m.\u001b[00m\r\n",
      "├── \u001b[01;35m2010_mavericks_competition.jpg\u001b[00m\r\n",
      "├── \u001b[01;35mbasit_harmonik_hareket.png\u001b[00m\r\n",
      "├── \u001b[01;35mbutterfly_pupa.jpg\u001b[00m\r\n",
      "├── \u001b[01;35mearth_vibration_mods.gif\u001b[00m\r\n",
      "├── \u001b[01;35mfetus_heartbeat.gif\u001b[00m\r\n",
      "├── \u001b[01;34mfunGifs\u001b[00m\r\n",
      "├── \u001b[01;35mHarmonic_oscillator.png\u001b[00m\r\n",
      "├── \u001b[01;35mHarmonic_oscillator.svg\u001b[00m\r\n",
      "├── \u001b[01;35mLC_circuit.gif\u001b[00m\r\n",
      "├── \u001b[01;35mneutron_star_vibrations.png\u001b[00m\r\n",
      "├── \u001b[01;35mOscillating_pendulum.gif\u001b[00m\r\n",
      "├── \u001b[01;35mPenduloTmg.gif\u001b[00m\r\n",
      "├── sekil_indir.ipynb\r\n",
      "└── \u001b[01;35mUCM1.gif\u001b[00m\r\n",
      "\r\n",
      "1 directory, 13 files\r\n"
     ]
    }
   ],
   "source": [
    "!tree -L 1"
   ]
  },
  {
   "cell_type": "code",
   "execution_count": 4,
   "metadata": {
    "ExecuteTime": {
     "end_time": "2018-02-07T08:08:38.759862Z",
     "start_time": "2018-02-07T08:08:38.644628Z"
    }
   },
   "outputs": [],
   "source": [
    "!mv $filename uniform_circular_motion.$ext"
   ]
  },
  {
   "cell_type": "code",
   "execution_count": 5,
   "metadata": {
    "ExecuteTime": {
     "end_time": "2018-02-07T08:08:39.587143Z",
     "start_time": "2018-02-07T08:08:39.476147Z"
    }
   },
   "outputs": [
    {
     "name": "stdout",
     "output_type": "stream",
     "text": [
      "\u001b[01;34m.\u001b[00m\r\n",
      "├── \u001b[01;35m2010_mavericks_competition.jpg\u001b[00m\r\n",
      "├── \u001b[01;35mbasit_harmonik_hareket.png\u001b[00m\r\n",
      "├── \u001b[01;35mbutterfly_pupa.jpg\u001b[00m\r\n",
      "├── \u001b[01;35mearth_vibration_mods.gif\u001b[00m\r\n",
      "├── \u001b[01;35mfetus_heartbeat.gif\u001b[00m\r\n",
      "├── \u001b[01;34mfunGifs\u001b[00m\r\n",
      "├── \u001b[01;35mHarmonic_oscillator.png\u001b[00m\r\n",
      "├── \u001b[01;35mHarmonic_oscillator.svg\u001b[00m\r\n",
      "├── \u001b[01;35mLC_circuit.gif\u001b[00m\r\n",
      "├── \u001b[01;35mneutron_star_vibrations.png\u001b[00m\r\n",
      "├── \u001b[01;35mOscillating_pendulum.gif\u001b[00m\r\n",
      "├── \u001b[01;35mPenduloTmg.gif\u001b[00m\r\n",
      "├── sekil_indir.ipynb\r\n",
      "└── \u001b[01;35muniform_circular_motion.gif\u001b[00m\r\n",
      "\r\n",
      "1 directory, 13 files\r\n"
     ]
    }
   ],
   "source": [
    "!tree -L 1"
   ]
  },
  {
   "cell_type": "code",
   "execution_count": null,
   "metadata": {},
   "outputs": [],
   "source": []
  },
  {
   "cell_type": "markdown",
   "metadata": {},
   "source": [
    "# HTML Tablo Örnekleri\n",
    "\n",
    "http://daydreamsgirl.com/articles/how-to-make-and-insert-a-simple-html-table-with-images-for-blogs/"
   ]
  },
  {
   "cell_type": "markdown",
   "metadata": {},
   "source": [
    "<table border=\"1\" cellpadding=\"5\" width=\"500\">\n",
    "<tbody>\n",
    "<tr>\n",
    "<td align=\"center\" valign=\"center\"><a href=\"http://istockphoto.com/file_closeup?id=9685054-romantic-couple.php&amp;refnum=daydreamsgirl\" target=\"_blank\"><img src=\"http://daydreamsgirl.com/articles/images/sk-78.jpg\" title=\"Click to license this image at iStockphoto\" alt=\"silhouette couple\"></a><p></p>\n",
    "<p>Caption text centered under the image.</p></td>\n",
    "<td align=\"center\" valign=\"center\"><a href=\"http://istockphoto.com/file_closeup?id=9429507-holding-hands.php&amp;refnum=daydreamsgirl\" target=\"_blank\"><img src=\"http://daydreamsgirl.com/articles/images/sk-80.jpg\" title=\"Click to license this image at iStockphoto\" alt=\"holding hands silhouette\"></a><p></p>\n",
    "<p>Caption text centered under the image.</p></td>\n",
    "</tr>\n",
    "</tbody>\n",
    "</table>"
   ]
  },
  {
   "cell_type": "markdown",
   "metadata": {},
   "source": [
    "<div>\n",
    "<table border=\"1\" cellpadding=\"5\" width=\"500\">\n",
    "<tbody>\n",
    "<tr>\n",
    "<td align=\"center\" valign=\"center\"><a href=\"http://istockphoto.com/file_closeup?id=9429507-holding-hands.php&amp;refnum=daydreamsgirl\" target=\"_blank\"><img src=\"http://daydreamsgirl.com/articles/images/sk-80.jpg\" title=\"Click to license this image at iStockphoto\" alt=\"Silhouette of couple holding hands\"></a></td>\n",
    "<td align=\"center\" valign=\"center\">This text is in the table data cell on the right.</td>\n",
    "</tr>\n",
    "</tbody>\n",
    "</table>\n",
    "</div>"
   ]
  },
  {
   "cell_type": "code",
   "execution_count": null,
   "metadata": {},
   "outputs": [],
   "source": []
  }
 ],
 "metadata": {
  "hide_input": false,
  "kernelspec": {
   "display_name": "Python 2",
   "language": "python",
   "name": "python2"
  },
  "language_info": {
   "codemirror_mode": {
    "name": "ipython",
    "version": 2
   },
   "file_extension": ".py",
   "mimetype": "text/x-python",
   "name": "python",
   "nbconvert_exporter": "python",
   "pygments_lexer": "ipython2",
   "version": "2.7.6"
  },
  "toc": {
   "collapse_to_match_collapsible_headings": false,
   "colors": {
    "hover_highlight": "#DAA520",
    "running_highlight": "#FF0000",
    "selected_highlight": "#FFD700"
   },
   "moveMenuLeft": true,
   "nav_menu": {
    "height": "12px",
    "width": "252px"
   },
   "navigate_menu": true,
   "number_sections": true,
   "sideBar": true,
   "threshold": 4,
   "toc_cell": false,
   "toc_section_display": "block",
   "toc_window_display": false
  },
  "varInspector": {
   "cols": {
    "lenName": 16,
    "lenType": 16,
    "lenVar": 40
   },
   "kernels_config": {
    "python": {
     "delete_cmd_postfix": "",
     "delete_cmd_prefix": "del ",
     "library": "var_list.py",
     "varRefreshCmd": "print(var_dic_list())"
    },
    "r": {
     "delete_cmd_postfix": ") ",
     "delete_cmd_prefix": "rm(",
     "library": "var_list.r",
     "varRefreshCmd": "cat(var_dic_list()) "
    }
   },
   "types_to_exclude": [
    "module",
    "function",
    "builtin_function_or_method",
    "instance",
    "_Feature"
   ],
   "window_display": false
  }
 },
 "nbformat": 4,
 "nbformat_minor": 2
}
