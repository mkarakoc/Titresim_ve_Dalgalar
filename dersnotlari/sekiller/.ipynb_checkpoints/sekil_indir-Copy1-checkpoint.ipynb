{
 "cells": [
  {
   "cell_type": "code",
   "execution_count": 78,
   "metadata": {
    "ExecuteTime": {
     "end_time": "2018-02-05T09:15:05.755008Z",
     "start_time": "2018-02-05T09:15:05.746765Z"
    }
   },
   "outputs": [],
   "source": [
    "link = 'https://upload.wikimedia.org/wikipedia/commons/2/22/Harmonic_oscillator.svg'\n",
    "filename = link.split('/')[-1]\n",
    "ext = filename.split('.')[-1]"
   ]
  },
  {
   "cell_type": "code",
   "execution_count": 79,
   "metadata": {
    "ExecuteTime": {
     "end_time": "2018-02-05T09:15:07.651496Z",
     "start_time": "2018-02-05T09:15:06.423767Z"
    }
   },
   "outputs": [
    {
     "name": "stdout",
     "output_type": "stream",
     "text": [
      "--2018-02-05 12:15:06--  https://upload.wikimedia.org/wikipedia/commons/2/22/Harmonic_oscillator.svg\n",
      "Resolving upload.wikimedia.org (upload.wikimedia.org)... 198.35.26.112, 2620:0:863:ed1a::2:b\n",
      "Connecting to upload.wikimedia.org (upload.wikimedia.org)|198.35.26.112|:443... connected.\n",
      "HTTP request sent, awaiting response... 200 OK\n",
      "Length: unspecified [image/svg+xml]\n",
      "Saving to: ‘Harmonic_oscillator.svg’\n",
      "\n",
      "    [  <=>                                  ] 27.687       122KB/s   in 0,2s   \n",
      "\n",
      "2018-02-05 12:15:07 (122 KB/s) - ‘Harmonic_oscillator.svg’ saved [27687]\n",
      "\n"
     ]
    }
   ],
   "source": [
    "#wget -e robots=off --wait 1\n",
    "!wget $link"
   ]
  },
  {
   "cell_type": "code",
   "execution_count": 80,
   "metadata": {
    "ExecuteTime": {
     "end_time": "2018-02-05T09:15:30.751410Z",
     "start_time": "2018-02-05T09:15:30.627682Z"
    }
   },
   "outputs": [
    {
     "name": "stdout",
     "output_type": "stream",
     "text": [
      "\u001b[01;34m.\u001b[00m\r\n",
      "├── \u001b[01;35m2010_mavericks_competition.jpg\u001b[00m\r\n",
      "├── \u001b[01;35mbasit_harmonik_hareket.png\u001b[00m\r\n",
      "├── \u001b[01;35mbutterfly_pupa.jpg\u001b[00m\r\n",
      "├── \u001b[01;35mearth_vibration_mods.gif\u001b[00m\r\n",
      "├── \u001b[01;35mfetus_heartbeat.gif\u001b[00m\r\n",
      "├── \u001b[01;35mHarmonic_oscillator.svg\u001b[00m\r\n",
      "├── \u001b[01;35mLC_circuit.gif\u001b[00m\r\n",
      "├── \u001b[01;35mneutron_star_vibrations.png\u001b[00m\r\n",
      "├── \u001b[01;35mOscillating_pendulum.gif\u001b[00m\r\n",
      "├── \u001b[01;35mPenduloTmg.gif\u001b[00m\r\n",
      "└── sekil_indir.ipynb\r\n",
      "\r\n",
      "0 directories, 11 files\r\n"
     ]
    }
   ],
   "source": [
    "!tree -L 1"
   ]
  },
  {
   "cell_type": "code",
   "execution_count": 70,
   "metadata": {
    "ExecuteTime": {
     "end_time": "2018-02-04T17:41:01.532099Z",
     "start_time": "2018-02-04T17:41:01.407827Z"
    }
   },
   "outputs": [],
   "source": [
    "!mv $filename LC_circuit.$ext"
   ]
  },
  {
   "cell_type": "code",
   "execution_count": 71,
   "metadata": {
    "ExecuteTime": {
     "end_time": "2018-02-04T17:41:02.299991Z",
     "start_time": "2018-02-04T17:41:02.177411Z"
    }
   },
   "outputs": [
    {
     "name": "stdout",
     "output_type": "stream",
     "text": [
      "\u001b[01;34m.\u001b[00m\r\n",
      "├── \u001b[01;35m2010_mavericks_competition.jpg\u001b[00m\r\n",
      "├── \u001b[01;35mbasit_harmonik_hareket.png\u001b[00m\r\n",
      "├── \u001b[01;35mbutterfly_pupa.jpg\u001b[00m\r\n",
      "├── \u001b[01;35mearth_vibration_mods.gif\u001b[00m\r\n",
      "├── \u001b[01;35mfetus_heartbeat.gif\u001b[00m\r\n",
      "├── \u001b[01;35mLC_circuit.gif\u001b[00m\r\n",
      "├── \u001b[01;35mneutron_star_vibrations.png\u001b[00m\r\n",
      "└── sekil_indir.ipynb\r\n",
      "\r\n",
      "0 directories, 8 files\r\n"
     ]
    }
   ],
   "source": [
    "!tree -L 1"
   ]
  },
  {
   "cell_type": "code",
   "execution_count": null,
   "metadata": {},
   "outputs": [],
   "source": []
  },
  {
   "cell_type": "code",
   "execution_count": null,
   "metadata": {},
   "outputs": [],
   "source": []
  },
  {
   "cell_type": "code",
   "execution_count": null,
   "metadata": {},
   "outputs": [],
   "source": []
  },
  {
   "cell_type": "code",
   "execution_count": 66,
   "metadata": {
    "ExecuteTime": {
     "end_time": "2018-02-04T15:10:06.653743Z",
     "start_time": "2018-02-04T15:10:06.640123Z"
    }
   },
   "outputs": [
    {
     "data": {
      "text/html": [
       "<!DOCTYPE html>\n",
       "<html>\n",
       "<head>\n",
       "<style>\n",
       "ul.a {\n",
       "    list-style-type: circle;\n",
       "}\n",
       "\n",
       "ul.b {\n",
       "    list-style-type: square;\n",
       "}\n",
       "\n",
       "ol.c {\n",
       "    list-style-type: upper-roman;\n",
       "}\n",
       "\n",
       "ol.d {\n",
       "    list-style-type: lower-alpha;\n",
       "}\n",
       "</style>\n",
       "</head>\n",
       "<body>\n",
       "\n",
       "<p>Example of unordered lists:</p>\n",
       "<ul class=\"a\">\n",
       "  <li>Coffee</li>\n",
       "  <li>Tea</li>\n",
       "  <li>Coca Cola</li>\n",
       "</ul>\n",
       "\n",
       "<ul class=\"b\">\n",
       "  <li>Coffee</li>\n",
       "  <li>Tea</li>\n",
       "  <li>Coca Cola</li>\n",
       "</ul>\n",
       "\n",
       "<p>Example of ordered lists:</p>\n",
       "<ol class=\"c\">\n",
       "  <li>Coffee</li>\n",
       "  <li>Tea</li>\n",
       "  <li>Coca Cola</li>\n",
       "</ol>\n",
       "\n",
       "<ol class=\"d\">\n",
       "  <li>Coffee</li>\n",
       "  <li>Tea</li>\n",
       "  <li>Coca Cola</li>\n",
       "</ol>\n",
       "\n",
       "</body>\n",
       "</html>"
      ],
      "text/plain": [
       "<IPython.core.display.HTML object>"
      ]
     },
     "metadata": {},
     "output_type": "display_data"
    }
   ],
   "source": [
    "%%HTML\n",
    "<!DOCTYPE html>\n",
    "<html>\n",
    "<head>\n",
    "<style>\n",
    "ul.a {\n",
    "    list-style-type: circle;\n",
    "}\n",
    "\n",
    "ul.b {\n",
    "    list-style-type: square;\n",
    "}\n",
    "\n",
    "ol.c {\n",
    "    list-style-type: upper-roman;\n",
    "}\n",
    "\n",
    "ol.d {\n",
    "    list-style-type: lower-alpha;\n",
    "}\n",
    "</style>\n",
    "</head>\n",
    "<body>\n",
    "\n",
    "<p>Example of unordered lists:</p>\n",
    "<ul class=\"a\">\n",
    "  <li>Coffee</li>\n",
    "  <li>Tea</li>\n",
    "  <li>Coca Cola</li>\n",
    "</ul>\n",
    "\n",
    "<ul class=\"b\">\n",
    "  <li>Coffee</li>\n",
    "  <li>Tea</li>\n",
    "  <li>Coca Cola</li>\n",
    "</ul>\n",
    "\n",
    "<p>Example of ordered lists:</p>\n",
    "<ol class=\"c\">\n",
    "  <li>Coffee</li>\n",
    "  <li>Tea</li>\n",
    "  <li>Coca Cola</li>\n",
    "</ol>\n",
    "\n",
    "<ol class=\"d\">\n",
    "  <li>Coffee</li>\n",
    "  <li>Tea</li>\n",
    "  <li>Coca Cola</li>\n",
    "</ol>\n",
    "\n",
    "</body>\n",
    "</html>\n"
   ]
  },
  {
   "cell_type": "code",
   "execution_count": 90,
   "metadata": {
    "ExecuteTime": {
     "end_time": "2018-02-05T10:56:25.957405Z",
     "start_time": "2018-02-05T10:56:25.948159Z"
    }
   },
   "outputs": [
    {
     "data": {
      "text/html": [
       "<script>\n",
       "code_show=false; \n",
       "function code_toggle() {\n",
       "    if (code_show){\n",
       "        $('div.cell.code_cell.rendered.selected div.input').show();\n",
       "    } else {\n",
       "        $('div.cell.code_cell.rendered.selected div.input').hide();\n",
       "    }\n",
       "    code_show = !code_show\n",
       "} \n",
       "$( document ).ready(code_toggle);\n",
       "</script>\n",
       "To show/hide this cell's raw code input, click <a href=\"javascript:code_toggle()\">here</a>."
      ],
      "text/plain": [
       "<IPython.core.display.HTML object>"
      ]
     },
     "metadata": {},
     "output_type": "display_data"
    },
    {
     "name": "stdout",
     "output_type": "stream",
     "text": [
      "deneme\n"
     ]
    }
   ],
   "source": [
    "from IPython.display import HTML\n",
    "from IPython.display import display\n",
    "\n",
    "# Taken from https://stackoverflow.com/questions/31517194/how-to-hide-one-specific-cell-input-or-output-in-ipython-notebook\n",
    "tag = HTML('''<script>\n",
    "code_show=false; \n",
    "function code_toggle() {\n",
    "    if (code_show){\n",
    "        $('div.cell.code_cell.rendered.selected div.input').show();\n",
    "    } else {\n",
    "        $('div.cell.code_cell.rendered.selected div.input').hide();\n",
    "    }\n",
    "    code_show = !code_show\n",
    "} \n",
    "$( document ).ready(code_toggle);\n",
    "</script>\n",
    "To show/hide this cell's raw code input, click <a href=\"javascript:code_toggle()\">here</a>.''')\n",
    "\n",
    "display(tag)\n",
    "\n",
    "\n",
    "print \"deneme\""
   ]
  },
  {
   "cell_type": "code",
   "execution_count": null,
   "metadata": {},
   "outputs": [],
   "source": [
    "from IPython.display import HTML\n",
    "from IPython.display import display\n",
    "\n",
    "# Taken from https://stackoverflow.com/questions/31517194/how-to-hide-one-specific-cell-input-or-output-in-ipython-notebook\n",
    "tag = HTML('''\n",
    "<script> \n",
    "code_show=true; \n",
    "function code_toggle() {\n",
    "    if (code_show){$('div.cell.code_cell.rendered.selected div.input').hide();} else {$('div.input').show();}\n",
    "    code_show = !code_show }\n",
    "$(document).ready(code_toggle);\n",
    "</script>\n",
    "\n",
    "<a href=\"javascript:code_toggle()\" style=\"text-decoration:none\" \n",
    "class=\"btn btn-default btn-danger btn-large fa fa-toggle-on\">\n",
    "&nbsp;&nbsp;&nbsp;Toggle </a> input cells!\n",
    "''')\n",
    "\n",
    "display(tag)\n",
    "\n",
    "\n",
    "print \"deneme\""
   ]
  },
  {
   "cell_type": "code",
   "execution_count": 92,
   "metadata": {
    "ExecuteTime": {
     "end_time": "2018-02-05T10:58:32.488425Z",
     "start_time": "2018-02-05T10:58:32.469371Z"
    }
   },
   "outputs": [
    {
     "data": {
      "text/html": [
       "\n",
       "<script> \n",
       "code_show=true; \n",
       "function code_toggle() {\n",
       "    if (code_show){$('div.input').hide();} else {$('div.input').show();}\n",
       "    code_show = !code_show }\n",
       "$(document).ready(code_toggle);\n",
       "</script>\n",
       "\n",
       "<a href=\"javascript:code_toggle()\" style=\"text-decoration:none\" \n",
       "class=\"btn btn-default btn-danger btn-large fa fa-toggle-on\">\n",
       "&nbsp;&nbsp;&nbsp;Toggle </a> input cells!\n"
      ],
      "text/plain": [
       "<IPython.core.display.HTML object>"
      ]
     },
     "metadata": {},
     "output_type": "display_data"
    },
    {
     "name": "stdout",
     "output_type": "stream",
     "text": [
      "deneme\n"
     ]
    }
   ],
   "source": [
    "from IPython.display import HTML\n",
    "from IPython.display import display\n",
    "\n",
    "# Taken from https://stackoverflow.com/questions/31517194/how-to-hide-one-specific-cell-input-or-output-in-ipython-notebook\n",
    "tag = HTML('''\n",
    "<script> \n",
    "code_show=true; \n",
    "function code_toggle() {\n",
    "    if (code_show){$('div.input').hide();} else {$('div.input').show();}\n",
    "    code_show = !code_show }\n",
    "$(document).ready(code_toggle);\n",
    "</script>\n",
    "\n",
    "<a href=\"javascript:code_toggle()\" style=\"text-decoration:none\" \n",
    "class=\"btn btn-default btn-danger btn-large fa fa-toggle-on\">\n",
    "&nbsp;&nbsp;&nbsp;Toggle </a> input cells!\n",
    "''')\n",
    "\n",
    "display(tag)\n",
    "\n",
    "\n",
    "print \"deneme\""
   ]
  },
  {
   "cell_type": "code",
   "execution_count": null,
   "metadata": {},
   "outputs": [],
   "source": []
  }
 ],
 "metadata": {
  "hide_input": false,
  "kernelspec": {
   "display_name": "Python 2",
   "language": "python",
   "name": "python2"
  },
  "language_info": {
   "codemirror_mode": {
    "name": "ipython",
    "version": 2
   },
   "file_extension": ".py",
   "mimetype": "text/x-python",
   "name": "python",
   "nbconvert_exporter": "python",
   "pygments_lexer": "ipython2",
   "version": "2.7.6"
  },
  "toc": {
   "collapse_to_match_collapsible_headings": false,
   "colors": {
    "hover_highlight": "#DAA520",
    "running_highlight": "#FF0000",
    "selected_highlight": "#FFD700"
   },
   "moveMenuLeft": true,
   "nav_menu": {
    "height": "12px",
    "width": "252px"
   },
   "navigate_menu": true,
   "number_sections": true,
   "sideBar": true,
   "threshold": 4,
   "toc_cell": false,
   "toc_section_display": "block",
   "toc_window_display": false
  },
  "varInspector": {
   "cols": {
    "lenName": 16,
    "lenType": 16,
    "lenVar": 40
   },
   "kernels_config": {
    "python": {
     "delete_cmd_postfix": "",
     "delete_cmd_prefix": "del ",
     "library": "var_list.py",
     "varRefreshCmd": "print(var_dic_list())"
    },
    "r": {
     "delete_cmd_postfix": ") ",
     "delete_cmd_prefix": "rm(",
     "library": "var_list.r",
     "varRefreshCmd": "cat(var_dic_list()) "
    }
   },
   "types_to_exclude": [
    "module",
    "function",
    "builtin_function_or_method",
    "instance",
    "_Feature"
   ],
   "window_display": false
  }
 },
 "nbformat": 4,
 "nbformat_minor": 2
}
