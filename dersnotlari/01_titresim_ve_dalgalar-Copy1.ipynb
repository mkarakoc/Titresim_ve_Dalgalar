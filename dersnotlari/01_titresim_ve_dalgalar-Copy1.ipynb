{
 "cells": [
  {
   "cell_type": "markdown",
   "metadata": {},
   "source": [
    "<b>\n",
    "<font size=\"6\" face='bold' color=\"blue\">TİTREŞİM ve DALGAR / FİZ220 </font> \n",
    "<br>\n",
    "<font size=\"5\"> Yrd. Doç. Dr. Mesut Karakoç </font>\n",
    "</b>\n",
    "<br>\n",
    "<font size=\"4\" color=\"black\"> \n",
    "Akdeniz Üniversitesi, Fen Fakültesi, Fizik Bölümü <br>\n",
    "    \n",
    "2017 - 2018 Bahar Dönemi \n",
    "</font>\n",
    "<br>"
   ]
  },
  {
   "cell_type": "code",
   "execution_count": 39,
   "metadata": {
    "ExecuteTime": {
     "end_time": "2018-02-05T14:18:27.447980Z",
     "start_time": "2018-02-05T14:18:27.433888Z"
    },
    "hide_input": false
   },
   "outputs": [
    {
     "data": {
      "text/html": [
       "\n",
       "<!-- ******************************************************** -->\n",
       "<!-- **************** Kod hücrelerini sakla ***************** -->\n",
       "<!-- ******************************************************** -->\n",
       "<!-- https://stackoverflow.com/questions/31517194/how-to-hide-one-specific-cell-input-or-output-in-ipython-notebook -->\n",
       "<script> \n",
       "code_show=true; \n",
       "function code_toggle() {\n",
       "    if (code_show){$('div.input').hide();} else {$('div.input').show();}\n",
       "    if (code_show){$('div.cell.code_cell.rendered.selected div.input').hide();} \n",
       "    else          {$('div.cell.code_cell.rendered.selected div.input').hide();}\n",
       "    code_show = !code_show }\n",
       "$(document).ready(code_toggle);\n",
       "</script>\n",
       "\n",
       "<a href=\"javascript:code_toggle()\" style=\"text-decoration:none\" \n",
       "class=\"btn btn-default btn-danger btn-large fa fa-toggle-on\">\n",
       "&nbsp;&nbsp;&nbsp; Kod hücrelerini, KAPAT / AÇ! </a>\n",
       "<!-- ######################################################### -->\n",
       "<!-- ######################################################### -->\n",
       "\n",
       "<!-- ********************************************************* -->\n",
       "<!-- ****** Trusted Notebookları başlangıçta çalıştır   ****** -->\n",
       "<!-- ****** jupyter trust *.ipynb                       ****** -->\n",
       "<!-- ****** ile bütün notebooklar güvenilir yapılabilir.****** -->\n",
       "<!-- ********************************************************* -->\n",
       "<!--https://stackoverflow.com/questions/31984196/ipython-notebook-run-all-cells-on-open -->\n",
       "<script>\n",
       "    // AUTORUN ALL CELLS ON NOTEBOOK-LOAD!\n",
       "    require(\n",
       "        ['base/js/namespace', 'jquery'], \n",
       "        function(jupyter, $) {\n",
       "            $(jupyter.events).on(\"kernel_ready.Kernel\", function () {\n",
       "                console.log(\"Auto-running all cells-below...\");\n",
       "                jupyter.actions.call('jupyter-notebook:run-all-cells-below');\n",
       "                jupyter.actions.call('jupyter-notebook:save-notebook');\n",
       "            });\n",
       "        }\n",
       "    );\n",
       "</script>\n",
       "<!-- ######################################################### -->\n",
       "<!-- ######################################################### -->\n",
       "\n",
       "<!-- ******************************************************** -->\n",
       "<!-- HTML için gerekli stilleri buradan ayarla                -->\n",
       "<!-- Bu hücreyi nbextension'dan 'hide input' kullanarak sakla -->\n",
       "<!-- ******************************************************** -->\n",
       "\n",
       "<style>\n",
       "table.a {text-align: left !important; \n",
       "         font-size: 20px;}\n",
       "table.b {text-align: left !important; \n",
       "         font-size: 16px;}\n",
       "\n",
       "td.b {text-align: left !important;}\n",
       "\n",
       "li {text-align: left;}\n",
       "</style>\n",
       "<!-- ######################################################### -->\n",
       "<!-- ######################################################### -->"
      ],
      "text/plain": [
       "<IPython.core.display.HTML object>"
      ]
     },
     "metadata": {},
     "output_type": "display_data"
    }
   ],
   "source": [
    "%%html\n",
    "\n",
    "<!-- ******************************************************** -->\n",
    "<!-- **************** Kod hücrelerini sakla ***************** -->\n",
    "<!-- ******************************************************** -->\n",
    "<!-- https://stackoverflow.com/questions/31517194/how-to-hide-one-specific-cell-input-or-output-in-ipython-notebook -->\n",
    "<script> \n",
    "code_show=true; \n",
    "function code_toggle() {\n",
    "    if (code_show){$('div.input').hide();} else {$('div.input').show();}\n",
    "    if (code_show){$('div.cell.code_cell.rendered.selected div.input').hide();} \n",
    "    else          {$('div.cell.code_cell.rendered.selected div.input').hide();}\n",
    "    code_show = !code_show }\n",
    "$(document).ready(code_toggle);\n",
    "</script>\n",
    "\n",
    "<a href=\"javascript:code_toggle()\" style=\"text-decoration:none\" \n",
    "class=\"btn btn-default btn-danger btn-large fa fa-toggle-on\">\n",
    "&nbsp;&nbsp;&nbsp; Kod hücrelerini, KAPAT / AÇ! </a>\n",
    "<!-- ######################################################### -->\n",
    "<!-- ######################################################### -->\n",
    "\n",
    "<!-- ********************************************************* -->\n",
    "<!-- ****** Trusted Notebookları başlangıçta çalıştır   ****** -->\n",
    "<!-- ****** jupyter trust *.ipynb                       ****** -->\n",
    "<!-- ****** ile bütün notebooklar güvenilir yapılabilir.****** -->\n",
    "<!-- ********************************************************* -->\n",
    "<!--https://stackoverflow.com/questions/31984196/ipython-notebook-run-all-cells-on-open -->\n",
    "<script>\n",
    "    // AUTORUN ALL CELLS ON NOTEBOOK-LOAD!\n",
    "    require(\n",
    "        ['base/js/namespace', 'jquery'], \n",
    "        function(jupyter, $) {\n",
    "            $(jupyter.events).on(\"kernel_ready.Kernel\", function () {\n",
    "                console.log(\"Auto-running all cells-below...\");\n",
    "                jupyter.actions.call('jupyter-notebook:run-all-cells-below');\n",
    "                jupyter.actions.call('jupyter-notebook:save-notebook');\n",
    "            });\n",
    "        }\n",
    "    );\n",
    "</script>\n",
    "<!-- ######################################################### -->\n",
    "<!-- ######################################################### -->\n",
    "\n",
    "<!-- ******************************************************** -->\n",
    "<!-- HTML için gerekli stilleri buradan ayarla                -->\n",
    "<!-- Bu hücreyi nbextension'dan 'hide input' kullanarak sakla -->\n",
    "<!-- ******************************************************** -->\n",
    "\n",
    "<style>\n",
    "table.a {text-align: left !important; \n",
    "         font-size: 20px;}\n",
    "table.b {text-align: left !important; \n",
    "         font-size: 16px;}\n",
    "\n",
    "td.b {text-align: left !important;}\n",
    "\n",
    "li {text-align: left;}\n",
    "</style>\n",
    "<!-- ######################################################### -->\n",
    "<!-- ######################################################### -->"
   ]
  },
  {
   "cell_type": "markdown",
   "metadata": {},
   "source": [
    "  <tr>\n",
    "    <th>[<button><i class=\"fa fa-arrow-circle-left fa-2x\" style=\"color: firebrick; vertical-align: middle;\"></i> Önceki Sayfa</button> ](./00_titresim_ve_dalgalar.ipynb)</th>\n",
    "    <th>&nbsp;&nbsp;&nbsp;&nbsp;&nbsp;&nbsp;&nbsp;&nbsp;&nbsp;&nbsp;</th>     \n",
    "    <th>[<button><i class=\"fa fa-home fa-2x\" style=\"color: firebrick; vertical-align: middle;\"></i> Ana Sayfa</button> ](./00_titresim_ve_dalgalar.ipynb)</th>\n",
    "    <th>&nbsp;&nbsp;&nbsp;&nbsp;&nbsp;&nbsp;&nbsp;&nbsp;&nbsp;&nbsp;</th>  \n",
    "    <th>[<button>Sonraki Sayfa <i class=\"fa fa-arrow-circle-right fa-2x\" style=\"color: firebrick; vertical-align: middle;\"></i></button>](./02_titresim_ve_dalgalar.ipynb)</th>\n",
    "  </tr>"
   ]
  },
  {
   "cell_type": "markdown",
   "metadata": {},
   "source": [
    "# Basit Sistemlerin Serbest Salınımları"
   ]
  },
  {
   "cell_type": "markdown",
   "metadata": {},
   "source": [
    "## Giriş"
   ]
  },
  {
   "cell_type": "markdown",
   "metadata": {},
   "source": [
    "- Evren ve içindeki her şey sürekli hareket halindedir.\n",
    "- Hareketli cisimler iki ana sınıfa ayrılabilirler.\n",
    "    - Başladıkları konumlara dönenler:\n",
    "        - salınan bir sarkaç\n",
    "        - titreşen bir kemen teli\n",
    "        - bardakta ileri geri çalkalanan su\n",
    "        - atom çekirdeği etrafında dolanan elektronlar\n",
    "        - aynalar arasında gidip gelen lazer ışını\n",
    "    - İlk başladıkları konumdan farklı bir konuma gidenler:\n",
    "        - buzlu yüzeyde kayan bir cisim\n",
    "        - bir ipte ilerleyen atma (puls)\n",
    "        - denizde kıyıya doğru ilerleyen dalgalar\n",
    "        - elektron tabancasından çıkıp uçan elektron\n",
    "        - bir yıldızdan gözümüze gelen ışık\n",
    "- Bazen aynı olay her iki anasınıfta da düşünülebilir.\n",
    "    - Deniz dalgaları ilerler fakat su dalgası üzerindeki bir cisim ilerlemez, bulunduğu konumda yukarı aşağı iner çıkar.\n",
    "    - İpteki atmalar ilerler ama ipin atomları bir denge noktası etrafında salınırlar.\n",
    "- Bu bölümde dışarıdan bir kere uyarıldıktan sonra bir denge konumu etrafında serbestçe salınan sistemleri inceleyeceğiz.\n",
    "- Bu tür salınımlara **serbest salınımlar** veya **doğal salınımlar** denir.\n",
    "- Birinci bölümde bir veya iki cisim içeren sistemleri inceleyeceğiz.\n",
    "- İkinci bölümde ise çok serbestlik dereceli sistemleri inceleyeceğiz. \n",
    "- Çok serbestlik dereceli bu sistemlerin **kip** (mod, öztitreşim) olarak adlandırılan bir serbestlik dereceli salınıcıya benzer yalın hareketlerinin olduğunu göreceğiz.\n",
    "- Bu tür sistemlerin genel davranışlarının bu yalın hareketlerlerin birleşimleriyle ifade edilebileceğiniz göreceğiz.\n",
    "- İncelenecek sistemler çeşitli fiziksel nicelikler olabilir ve dalga fonksiyonları aşağıdaki gibi gösterilirler.\n",
    "    - Mekanik bir sistemse genellikle, $\\Psi(x,y,zt)$\n",
    "    - Elektromanyetik bir sistemse, elektrik alan $E(x,y,z,t)$ ve manyetik alan $B(x,y,zt)$"
   ]
  },
  {
   "cell_type": "markdown",
   "metadata": {},
   "source": [
    "### Gerçek yaşamdan bazı titreşim örnekleri\n",
    "<table>\n",
    "  <tr>\n",
    "    <td><img width=300 src='./sekiller/earth_vibration_mods.gif'></td>\n",
    "    <td><img width=430 src='./sekiller/neutron_star_vibrations.png'></td>\n",
    "  </tr>\n",
    "  <tr>\n",
    "    <th>Dünyanın titreşimleri [1,2]</th>\n",
    "    <th>Neutron yıldızı titreşimleri [3]</th>\n",
    "  </tr>    \n",
    "  <tr>\n",
    "    <td><img width=300 src='./sekiller/butterfly_pupa.jpg'></td>\n",
    "    <td><img width=450 src='./sekiller/fetus_heartbeat.gif'></td>  \n",
    "  </tr>\n",
    "  <tr>\n",
    "    <th>Bir kelebeğin kalp atışları [4]</th>\n",
    "    <th>Ultrason altındaki bebeğin kalp atışları [5]</th>\n",
    "  </tr>          \n",
    "</table>"
   ]
  },
  {
   "cell_type": "markdown",
   "metadata": {},
   "source": [
    "### Bazı terimler [6, 7]    "
   ]
  },
  {
   "cell_type": "markdown",
   "metadata": {
    "ExecuteTime": {
     "end_time": "2018-02-04T15:11:13.701366Z",
     "start_time": "2018-02-04T15:11:13.689480Z"
    }
   },
   "source": [
    "<table class='a'>\n",
    "  <tr>\n",
    "    <td>\n",
    "        <img width=300 src='./sekiller/basit_harmonik_hareket.png'>\n",
    "    </td>      \n",
    "    <td>    \n",
    "<ul>\n",
    "<li>Belirli aralıklarla tekrarlanan harekete **periyodik hareket** denir.</li><br>\n",
    "<li> Bir eksen boyunca, sabit bir nokta etrafında periyodik hareket yapan <br> cismin hareketine **titreşim hareketi** denir.</li><br>\n",
    "<li>**Dalga** ise titreşimlerin bir noktadan bir başka noktaya aktarılmasıdır.</li><br>\n",
    "<li> Parçacığı denge konumuna geri getirmeye çalışan kuvvet, uzanımla orantılı <br> ise bu titreşim hareketine **basit harmonik hareket (BHH)** denir.</li><br>\n",
    "<li> Genellikle BHH'ler $\\bf \\Psi(t) = A\\sin(wt+\\phi) + B\\cos(wt+\\phi)$ şeklindeki <br> **harmonik salınım** fonksiyonlarıyla ifade edilirler.</li><br>\n",
    "<li> Böyle hareket eden bir parçacığın hiç bir kuvvetin etkisinde kalmadığı konuma <br> **denge konumu** ve herhangi bir andaki konumunun denge konumuna olan <br> uzaklığına **uzanım** denir.</li><br>\n",
    "<li> En büyük (maksimum) uzanıma **genlik** denir ($\\Psi$'ın A ve B katsayıları).</li><br>\n",
    "<li> $\\bf w$ rad/sn birimli *açısal frekans*tır.</li><br>\n",
    "<li> $\\bf \\nu = {w \\over 2\\pi}$ Hertz (Hz $\\equiv$ sn$^{-1}$) birimli, *birim saniyedeki devir sayısı* veya *frekans*tır.</li><br> \n",
    "<li> $\\bf T = {1 \\over \\nu}$ bir peryotun tamamlanması süresi, kısaca periyot..</li><br>\n",
    "<li> $\\bf \\phi$ faz sabiti olarak adlandırılır ve birimsizdir.</li>\n",
    "</ul>  \n",
    "    </td>      \n",
    "  </tr>\n",
    "</table>"
   ]
  },
  {
   "cell_type": "markdown",
   "metadata": {},
   "source": [
    "## Bir serbestlik dereceli sistemlerin serbest salınımları"
   ]
  },
  {
   "cell_type": "markdown",
   "metadata": {},
   "source": [
    "Yukarıdaki şekilde verilen **kütle-yay** ve **ip-cisim** sistemleri bir serbestlik dereceli salınıcılardır. Çünkü denge konumundan olan uzaklıklarını sadece bir koordinatla ifade etmek mümkündür. Bu tür sistemlerin hareketi Denklem \\ref{eq:hs}'deki \"harmonik salınım\" fonksiyonu ile tanımlanabilir. Şekildeki ***LC* devresi** de bir serbestlik dereceli salınıcıdır.\n",
    "\n",
    "\\begin{equation}\n",
    "\\label{eq:hs}\n",
    "\\large\n",
    "\\Psi(t) = A\\sin(wt+\\phi)\n",
    "\\end{equation}\n",
    "\n",
    "<img width=300 src='./sekiller/LC_circuit.gif'>\n",
    "\n",
    "**Geri çağırma ve eylemsizlik**:  \n",
    "Denklem \\ref{eq:hs} ile tanımlanan davranış bu tür sistemlerin iki özelliğinin yarışması sonucu ortaya çıkar.\n",
    "\n",
    "- geri çağırma kuvveti\n",
    "- eylemsizlik\n",
    "\n",
    "**Geri çağırma kuvveti** sistemi hep denge konumuna getirmek ister fakat denge konumuna geldiğinde sistem en yüksek hızına ulaşır. Bu noktada **eylemsizlik** (Newton'un birinci yasası) etkin hale gelir ve sistem hareketine devam etmek ister. Böylece sürekli bir **salınım hareketi** gerçekleşir.\n",
    "\n",
    "**Sönümlü salınımlar**:  \n",
    "Denklem \\ref{eq:hs} ile hareketi tanımlanan sistemler çoğu durumda gerçekçi olmayabilir. Çünkü çoğu fizikzel durumda salınımı **sönümleyecek** (sonlandıracak) kuvvetler vardır ve bunlar **sürtünme** veya **direnç** kuvvetleri olarak adlandırılırlar. Böyle sistemler için ise salınım fonksiyonu aşağıdaki gibidir.\n",
    "\n",
    "\\begin{equation}\n",
    "\\label{eq:shs}\n",
    "\\large\n",
    "\\Psi(t) = A e^{-t/2\\tau} \\cos(wt+\\phi)\n",
    "\\end{equation}\n",
    "\n",
    "$\\bf \\tau$ sönme veya durulma zamanı olarak adlandırılır.\n",
    "\n"
   ]
  },
  {
   "cell_type": "markdown",
   "metadata": {},
   "source": [
    "### Harmonik salınım fonksiyonu\n",
    "\n",
    "Harmonik salınım fonksiyonuna ait parametrelerin değişimilerinin fonksiyonda ne tür değişikliklere sebep olduğunu aşağıdaki Python programını çalıştırarak inceleyebilirsiniz.\n",
    "\n",
    "Programı çalıştırmak için hücrenin kenarındaki **In[ ]** yazan kısma  tıklayın. Sonra **Shit + Enter** tuşlarını beraber kullanarak  çalıştırabilirsiniz."
   ]
  },
  {
   "cell_type": "code",
   "execution_count": 18,
   "metadata": {
    "ExecuteTime": {
     "end_time": "2018-02-05T11:58:47.506988Z",
     "start_time": "2018-02-05T11:58:47.198620Z"
    },
    "hide_input": true
   },
   "outputs": [
    {
     "data": {
      "image/png": "[encoded data removed]",
      "text/plain": [
       "<matplotlib.figure.Figure at 0x7f67f47ebd90>"
      ]
     },
     "metadata": {},
     "output_type": "display_data"
    }
   ],
   "source": [
    "from IPython.display import display, Markdown\n",
    "from ipywidgets import interact, interactive, fixed, interact_manual, FloatSlider\n",
    "import matplotlib.pyplot as plt\n",
    "import numpy as np\n",
    "%matplotlib inline\n",
    "\n",
    "# Harmonik salınım fonksiyonu\n",
    "def psi(A, w, phi):\n",
    "    return A * np.sin(w*t + phi)\n",
    "\n",
    "# Zaman uzayını oluştur\n",
    "t = np.linspace(0, 4*np.pi, 75)\n",
    "\n",
    "# Fonksiyonun başlangıç hali\n",
    "y0 = psi(1, 1, 0.)\n",
    "\n",
    "# Etkileşimli kısmı başlat\n",
    "@interact(\n",
    "    A = FloatSlider(min=0, max=2, step=2./10, value=1.0),\n",
    "    w = FloatSlider(min=0, max=2, step=2./10, value=1.0),\n",
    "    phi = FloatSlider(min=-np.pi, max=np.pi, step=np.pi/20, value=0.0, description='$\\phi$')\n",
    ") \n",
    "\n",
    "def wave(A, w, phi):\n",
    "    plt.suptitle(r'$\\Psi(t) = A\\sin(wt+\\phi),\\;\\;\\phi = \\frac{%s}{20} \\pi$'%int(20*phi/(np.pi)), fontsize=18, y=1.0)\n",
    "    plt.grid()\n",
    "    plt.plot(t, psi(A, w, phi),'b', lw=3)\n",
    "    plt.plot(t, y0, 'r--', lw=3)\n",
    "    plt.xlabel('t', fontsize=18)\n",
    "    plt.ylabel('$\\Psi(t)$', fontsize=18)\n",
    "    plt.ylim(-2,2)\n",
    "    plt.show()"
   ]
  },
  {
   "cell_type": "markdown",
   "metadata": {},
   "source": [
    "### Sönümlü salınım fonksiyonu\n",
    "\n",
    "Sönümlü salınım fonksiyonuna ait parametrelerin değişimilerinin fonksiyonda ne tür değişikliklere sebep olduğunu aşağıdaki Python programını çalıştırarak inceleyebilirsiniz.\n",
    "\n",
    "Programı çalıştırmak için hücrenin kenarındaki **In[ ]** yazan kısma  tıklayın. Sonra **Shit + Enter** tuşlarını beraber kullanarak  çalıştırabilirsiniz."
   ]
  },
  {
   "cell_type": "code",
   "execution_count": 19,
   "metadata": {
    "ExecuteTime": {
     "end_time": "2018-02-05T11:58:47.736451Z",
     "start_time": "2018-02-05T11:58:47.509170Z"
    }
   },
   "outputs": [
    {
     "data": {
      "image/png": "[encoded data removed]",
      "text/plain": [
       "<matplotlib.figure.Figure at 0x7f67f7265b10>"
      ]
     },
     "metadata": {},
     "output_type": "display_data"
    }
   ],
   "source": [
    "from IPython.display import display, Markdown\n",
    "from ipywidgets import interact, interactive, fixed, interact_manual, FloatSlider\n",
    "import matplotlib.pyplot as plt\n",
    "import numpy as np\n",
    "%matplotlib inline\n",
    "\n",
    "# Harmonik salınım fonksiyonu\n",
    "def psi(A, w, tau, phi):\n",
    "    return A * np.exp(-t/2/tau)*np.cos(w*t + phi)\n",
    "\n",
    "# Zaman uzayını oluştur\n",
    "t = np.linspace(0, 4*np.pi, 75)\n",
    "\n",
    "# Fonksiyonun başlangıç hali\n",
    "y0 = psi(1, 1, 2.77, 0.)\n",
    "\n",
    "# Etkileşimli kısmı başlat\n",
    "@interact(\n",
    "    A = FloatSlider(min=0, max=2, step=2./10, value=1.0),\n",
    "    w = FloatSlider(min=0, max=2, step=2./10, value=1.0),\n",
    "    tau = FloatSlider(min=.1, max=80.1, step=80./30, value=2.77),\n",
    "    phi = FloatSlider(min=-np.pi, max=np.pi, step=np.pi/20, value=0.0, description='$\\phi$')\n",
    ") \n",
    "\n",
    "def wave(A, w, tau, phi):\n",
    "    plt.suptitle(r'$\\Psi(t) = A e^{-t/2\\tau} \\cos(wt+\\phi),\\;\\;\\phi = \\frac{%s}{20} \\pi$'%int(20*phi/(np.pi)), fontsize=18, y=1.0)\n",
    "    plt.grid()\n",
    "    plt.plot(t, psi(A, w, tau, phi),'b', lw=3)\n",
    "    plt.plot(t, y0, 'r--', lw=3)\n",
    "    plt.xlabel('t', fontsize=18)\n",
    "    plt.ylabel('$\\Psi(t)$', fontsize=18)\n",
    "    plt.ylim(-2,2)\n",
    "    plt.show()"
   ]
  },
  {
   "cell_type": "markdown",
   "metadata": {},
   "source": [
    "### Kütle yay sistemi"
   ]
  },
  {
   "cell_type": "markdown",
   "metadata": {},
   "source": [
    "<tr>\n",
    "<td><img src='./sekiller/Harmonic_oscillator.svg' alt=\"Drawing\" style=\"width: 250px;\"/></td>\n",
    "<td class='b'>\n",
    "sdfasdfasd sdfasdfasd sdfasdfasd sdfasdfasd sdfasdfasd sdfasdfasd sdfasdfasd sdfasdfasd sdfasdfasd sdfasdfasd sdfasdfasd sdfasdfasd sdfasdfasd sdfasdfasd sdfasdfasd sdfasdfasd sdfasdfasd sdfasdfasd sdfasdfasd sdfasdfasd sdfasdfasd sdfasdfasd sdfasdfasd sdfasdfasd sdfasdfasd sdfasdfasd sdfasdfasd sdfasdfasd sdfasdfasd \n",
    "</td>\n",
    "</tr>\n"
   ]
  },
  {
   "cell_type": "code",
   "execution_count": 25,
   "metadata": {
    "ExecuteTime": {
     "end_time": "2018-02-05T12:14:05.176444Z",
     "start_time": "2018-02-05T12:14:05.165391Z"
    }
   },
   "outputs": [
    {
     "data": {
      "text/latex": [
       "\\begin{figure}[!h]\n",
       "\\includegraphics[scale=0.4]{./sekiller/basit_harmonik_hareket.png}                \n",
       "\\end{figure}"
      ],
      "text/plain": [
       "<IPython.core.display.Latex object>"
      ]
     },
     "metadata": {},
     "output_type": "display_data"
    }
   ],
   "source": [
    "%%latex\n",
    "\\begin{figure}[!h]\n",
    "\\includegraphics[scale=0.4]{./sekiller/basit_harmonik_hareket.png}                \n",
    "\\end{figure}"
   ]
  },
  {
   "cell_type": "code",
   "execution_count": 28,
   "metadata": {
    "ExecuteTime": {
     "end_time": "2018-02-05T12:15:33.040910Z",
     "start_time": "2018-02-05T12:15:33.025006Z"
    }
   },
   "outputs": [
    {
     "data": {
      "text/latex": [
       "\\begin{array}{|c|c|}\n",
       "\\hline X & P(X = i) \\\\\\hline\n",
       "  1  & 1/6 \\\\\\hline\n",
       "  2  & 1/6 \\\\\\hline\n",
       "  3  & 1/6 \\\\\\hline\n",
       "  4  & 1/6 \\\\\\hline\n",
       "  5  & 1/6 \\\\\\hline\n",
       "  6  & 1/6 \\\\\\hline\n",
       "\\end{array}"
      ],
      "text/plain": [
       "<IPython.core.display.Latex object>"
      ]
     },
     "metadata": {},
     "output_type": "display_data"
    }
   ],
   "source": [
    "%%latex\n",
    "\\begin{array}{|c|c|}\n",
    "\\hline X & P(X = i) \\\\\\hline\n",
    "  1  & 1/6 \\\\\\hline\n",
    "  2  & 1/6 \\\\\\hline\n",
    "  3  & 1/6 \\\\\\hline\n",
    "  4  & 1/6 \\\\\\hline\n",
    "  5  & 1/6 \\\\\\hline\n",
    "  6  & 1/6 \\\\\\hline\n",
    "\\end{array}"
   ]
  },
  {
   "cell_type": "code",
   "execution_count": 22,
   "metadata": {
    "ExecuteTime": {
     "end_time": "2018-02-05T12:13:12.580474Z",
     "start_time": "2018-02-05T12:13:12.567209Z"
    },
    "hide_input": true
   },
   "outputs": [
    {
     "data": {
      "text/latex": [
       "\\begin{figure}[!h]\n",
       "\\begin{minipage}{.40\\textwidth}\n",
       "                \\centering\n",
       "                \\includegraphics[scale=0.4]{./sekiller/basit_harmonik_hareket.png}                \n",
       "                \\caption{Bir tavana asılmış cisim.}  \n",
       "                \\label{fig:asilmisCisim}\n",
       "\\end{minipage}\n",
       "\\begin{minipage}{.6\\textwidth}\n",
       "\n",
       "Bir cisim Şekil \\ref{fig:asilmisCisim}'deki gibi kablolarla bir tavana asılmıştır.\n",
       "Kablolar kütlesiz, m kütlesinin ağırlığı [[F]]~N, $\\theta_1=[[th1]]^\\circ$ ve \n",
       "$\\theta_2=[[th2]]^\\circ$ olduğuna göre aşağıdaki soruyu cevaplayınız.\n",
       "({\\bf sin$\\theta_1$=[[sth1]], \n",
       "     cos$\\theta_1$=[[cth1]], \n",
       "     sin$\\theta_2$=[[sth2]], \n",
       "     cos$\\theta_2$=[[cth2]]})\n",
       "\n",
       "\n",
       "\\question[8] \\label{que:Tension} Bu sistem dengede olduğuna göre; $T_1$, $T_2$ ve $T_3$ gerilme kuvvetlerinin büyüklüklerinin değerleri ne kadardır?\n",
       "\n",
       "\\vspace{12pt}\n",
       "\n",
       "{\\bf \\Large Cevap:}\\\\\n",
       "\\def\\arraystretch{2.0}\n",
       "\\begin{tabular}{|l|l|}\n",
       "\\hline  \n",
       "\\Large $T_1 =$ \\hspace{54pt} & \\Large  $T_2 =$ \\hspace{54pt} \\\\\n",
       "\\hline\n",
       "\\Large $T_3 =$ \\hspace{54pt} & \\\\\n",
       "\\hline  \n",
       "\\end{tabular}\n",
       "\\end{minipage}\n",
       "\\end{figure}"
      ],
      "text/plain": [
       "<IPython.core.display.Latex object>"
      ]
     },
     "metadata": {},
     "output_type": "display_data"
    }
   ],
   "source": [
    "%%latex\n",
    "\\begin{figure}[!h]\n",
    "\\begin{minipage}{.40\\textwidth}\n",
    "                \\centering\n",
    "                \\includegraphics[scale=0.4]{./sekiller/basit_harmonik_hareket.png}                \n",
    "                \\caption{Bir tavana asılmış cisim.}  \n",
    "                \\label{fig:asilmisCisim}\n",
    "\\end{minipage}\n",
    "\\begin{minipage}{.6\\textwidth}\n",
    "\n",
    "Bir cisim Şekil \\ref{fig:asilmisCisim}'deki gibi kablolarla bir tavana asılmıştır.\n",
    "Kablolar kütlesiz, m kütlesinin ağırlığı [[F]]~N, $\\theta_1=[[th1]]^\\circ$ ve \n",
    "$\\theta_2=[[th2]]^\\circ$ olduğuna göre aşağıdaki soruyu cevaplayınız.\n",
    "({\\bf sin$\\theta_1$=[[sth1]], \n",
    "     cos$\\theta_1$=[[cth1]], \n",
    "     sin$\\theta_2$=[[sth2]], \n",
    "     cos$\\theta_2$=[[cth2]]})\n",
    "\n",
    "\n",
    "\\question[8] \\label{que:Tension} Bu sistem dengede olduğuna göre; $T_1$, $T_2$ ve $T_3$ gerilme kuvvetlerinin büyüklüklerinin değerleri ne kadardır?\n",
    "\n",
    "\\vspace{12pt}\n",
    "\n",
    "{\\bf \\Large Cevap:}\\\\\n",
    "\\def\\arraystretch{2.0}\n",
    "\\begin{tabular}{|l|l|}\n",
    "\\hline  \n",
    "\\Large $T_1 =$ \\hspace{54pt} & \\Large  $T_2 =$ \\hspace{54pt} \\\\\n",
    "\\hline\n",
    "\\Large $T_3 =$ \\hspace{54pt} & \\\\\n",
    "\\hline  \n",
    "\\end{tabular}\n",
    "\\end{minipage}\n",
    "\\end{figure}"
   ]
  },
  {
   "cell_type": "code",
   "execution_count": null,
   "metadata": {},
   "outputs": [],
   "source": []
  },
  {
   "cell_type": "markdown",
   "metadata": {},
   "source": [
    "### Basit Sarkaç"
   ]
  },
  {
   "cell_type": "markdown",
   "metadata": {},
   "source": [
    "<table>\n",
    "  <tr>\n",
    "    <td><img width=380 src= './sekiller/Oscillating_pendulum.gif'></td>\n",
    "    <td><img width=200 src='./sekiller/PenduloTmg.gif'></td>\n",
    "  </tr>\n",
    "  <tr>\n",
    "    <th>Basit sarkaç, hız ve ivme davranışı [8]</th>\n",
    "    <th>Basit sarkaç, kütleli cisim <br>üzerindeki kuvvetler [9]</th>\n",
    "  </tr>            \n",
    "</table>"
   ]
  },
  {
   "cell_type": "code",
   "execution_count": null,
   "metadata": {},
   "outputs": [],
   "source": []
  },
  {
   "cell_type": "markdown",
   "metadata": {},
   "source": [
    "## Kaynaklar\n",
    "1. https://www.britannica.com/science/natural-vibration\n",
    "2. [Deep Interior of the Earth, J.A. Jacobs](https://books.google.com.tr/books?id=Pmh-j_EoDqMC&lpg=PA29&ots=YhFCrrb01h&dq=earth%200t2%20vibration&hl=tr&pg=PA30#v=onepage&q=earth%200t2%20vibration&f=false)\n",
    "\n",
    "3. [Luciano Rezzolla, Prof. Dr.\n",
    "Chair of Theoretical Astrophysics, Institute of Theoretical Physics, Frankfurt, Germany](https://astro.uni-frankfurt.de/rezzolla/research/neutron-star-physics/)\n",
    "4. [Dynamic mechanical oscillations during metamorphosis of the monarch butterfly, A.E. Pelling, P.R. Wilkinson, R. Stringer, J.K. Gimzewski, J. R. Soc. Interface(2009)6, 29–37.](http://rsif.royalsocietypublishing.org/content/6/30/29)\n",
    "5. [Ultrasound Baby Heartbeat (https://makeagif.com)](https://makeagif.com/gif/ultrasound-baby-heartbeat-nmZVEd?)  \n",
    "[Ultrasound Baby Heartbeat, Videosu.](https://www.youtube.com/watch?v=xpp3vrn8BnM)\n",
    "6. **Dalgalar**, Frank S. Crawford jr., Berkeley Fizik Dersleri 3. Cilt, Bilim Yayınevi.\n",
    "7. [Dr. Mustafa POLAT'ın Titreşim ve Dalgar Ders Notu.](http://yunus.hacettepe.edu.tr/~polat/FIZ217-DERS-NOTLARI.pdf)\n",
    "8. Oscillating pendulum, https://commons.wikimedia.org/wiki/File:Oscillating_pendulum.gif.\n",
    "9. Pendulum forces, https://commons.wikimedia.org/wiki/File:PenduloTmg.gif."
   ]
  },
  {
   "cell_type": "code",
   "execution_count": null,
   "metadata": {},
   "outputs": [],
   "source": []
  }
 ],
 "metadata": {
  "hide_input": true,
  "kernelspec": {
   "display_name": "Python 2",
   "language": "python",
   "name": "python2"
  },
  "language_info": {
   "codemirror_mode": {
    "name": "ipython",
    "version": 2
   },
   "file_extension": ".py",
   "mimetype": "text/x-python",
   "name": "python",
   "nbconvert_exporter": "python",
   "pygments_lexer": "ipython2",
   "version": "2.7.6"
  },
  "toc": {
   "collapse_to_match_collapsible_headings": true,
   "colors": {
    "hover_highlight": "#DAA520",
    "running_highlight": "#FF0000",
    "selected_highlight": "#FFD700"
   },
   "moveMenuLeft": true,
   "nav_menu": {
    "height": "48px",
    "width": "252px"
   },
   "navigate_menu": true,
   "number_sections": true,
   "sideBar": true,
   "threshold": 4,
   "toc_cell": false,
   "toc_position": {
    "height": "675px",
    "left": "0px",
    "right": "793px",
    "top": "160px",
    "width": "252px"
   },
   "toc_section_display": "block",
   "toc_window_display": true
  },
  "varInspector": {
   "cols": {
    "lenName": 16,
    "lenType": 16,
    "lenVar": 40
   },
   "kernels_config": {
    "python": {
     "delete_cmd_postfix": "",
     "delete_cmd_prefix": "del ",
     "library": "var_list.py",
     "varRefreshCmd": "print(var_dic_list())"
    },
    "r": {
     "delete_cmd_postfix": ") ",
     "delete_cmd_prefix": "rm(",
     "library": "var_list.r",
     "varRefreshCmd": "cat(var_dic_list()) "
    }
   },
   "types_to_exclude": [
    "module",
    "function",
    "builtin_function_or_method",
    "instance",
    "_Feature"
   ],
   "window_display": false
  }
 },
 "nbformat": 4,
 "nbformat_minor": 2
}
