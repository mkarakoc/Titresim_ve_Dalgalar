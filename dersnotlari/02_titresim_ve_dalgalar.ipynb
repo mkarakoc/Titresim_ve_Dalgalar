{
 "cells": [
  {
   "cell_type": "markdown",
   "metadata": {},
   "source": [
    "<b>\n",
    "<font size=\"6\" face='bold' color=\"blue\">TİTREŞİM ve DALGAR / FİZ220 </font> \n",
    "<br>\n",
    "<font size=\"5\"> Yrd. Doç. Dr. Mesut Karakoç </font>\n",
    "</b>\n",
    "<br>\n",
    "<font size=\"4\" color=\"black\"> \n",
    "Akdeniz Üniversitesi, Fen Fakültesi, Fizik Bölümü <br>\n",
    "    \n",
    "2017 - 2018 Bahar Dönemi \n",
    "</font>\n",
    "<br>"
   ]
  },
  {
   "cell_type": "code",
   "execution_count": 1,
   "metadata": {
    "ExecuteTime": {
     "end_time": "2018-02-11T21:45:03.147149Z",
     "start_time": "2018-02-11T21:45:03.132768Z"
    },
    "hide_input": true,
    "scrolled": true
   },
   "outputs": [
    {
     "data": {
      "text/html": [
       "\n",
       "<!-- ******************************************************** -->\n",
       "<!-- **************** Kod hücrelerini sakla ***************** -->\n",
       "<!-- ******************************************************** -->\n",
       "<!-- https://stackoverflow.com/questions/31517194/how-to-hide-one-specific-cell-input-or-output-in-ipython-notebook -->\n",
       "<script> \n",
       "code_show=true; \n",
       "function code_toggle() {\n",
       "    if (code_show){$('div.input').hide();} else {$('div.input').show();}\n",
       "    if (code_show){$('div.cell.code_cell.rendered.selected div.input').hide();} \n",
       "    else          {$('div.cell.code_cell.rendered.selected div.input').hide();}\n",
       "    code_show = !code_show }\n",
       "$(document).ready(code_toggle);\n",
       "</script>\n",
       "\n",
       "<a href=\"javascript:code_toggle()\" style=\"text-decoration:none\" \n",
       "class=\"btn btn-default btn-danger btn-large fa fa-toggle-on\">\n",
       "&nbsp;&nbsp;&nbsp; Kod hücrelerini, KAPAT / AÇ! </a>\n",
       "<!-- ######################################################### -->\n",
       "<!-- ######################################################### -->\n",
       "\n",
       "<!-- ********************************************************* -->\n",
       "<!-- ****** Trusted Notebookları başlangıçta çalıştır   ****** -->\n",
       "<!-- ****** jupyter trust *.ipynb                       ****** -->\n",
       "<!-- ****** ile bütün notebooklar güvenilir yapılabilir.****** -->\n",
       "<!-- ********************************************************* -->\n",
       "<!--https://stackoverflow.com/questions/31984196/ipython-notebook-run-all-cells-on-open -->\n",
       "<script>\n",
       "    // AUTORUN ALL CELLS ON NOTEBOOK-LOAD!\n",
       "    require(\n",
       "        ['base/js/namespace', 'jquery'], \n",
       "        function(jupyter, $) {\n",
       "            $(jupyter.events).on(\"kernel_ready.Kernel\", function () {\n",
       "                console.log(\"Auto-running all cells-below...\");\n",
       "                jupyter.actions.call('jupyter-notebook:run-all-cells-below');\n",
       "             // jupyter.actions.call('jupyter-notebook:save-notebook');\n",
       "            });\n",
       "        }\n",
       "    );\n",
       "</script>\n",
       "<!-- ######################################################### -->\n",
       "<!-- ######################################################### -->\n",
       "\n",
       "<!-- ******************************************************** -->\n",
       "<!-- HTML için gerekli stilleri buradan ayarla                -->\n",
       "<!-- Bu hücreyi nbextension'dan 'hide input' kullanarak sakla -->\n",
       "<!-- ******************************************************** -->\n",
       "\n",
       "<style>\n",
       "table.a, tr.a {text-align: left !important; \n",
       "         font-size: 20px;}\n",
       "\n",
       "table.b {text-align: left !important; \n",
       "         font-size: 16px;\n",
       "         margin: 0;}\n",
       "\n",
       "td.b {text-align: left !important;}\n",
       "\n",
       "li {text-align: left;}\n",
       "</style>\n",
       "<!-- ######################################################### -->\n",
       "<!-- ######################################################### -->\n",
       "\n",
       "<!-- ********************************************************* -->\n",
       "<!-- ****** Sayfa yönlendirme butonları                 ****** -->\n",
       "<!-- ********************************************************* -->\n",
       "&nbsp;&nbsp;&nbsp;&nbsp;\n",
       "<tr align='left'>\n",
       "    <th>\n",
       "     <a href=\"./01_titresim_ve_dalgalar.ipynb\" target=\"_blank\">\n",
       "       <button>\n",
       "       <i class=\"fa fa-arrow-circle-left fa-2x\" style=\"color: firebrick ; vertical-align: middle\"></i> Önceki Sayfa\n",
       "       </button> \n",
       "     </a>\n",
       "    </th>\n",
       "    \n",
       "    <th>&nbsp;&nbsp;&nbsp;&nbsp;&nbsp;&nbsp;&nbsp;&nbsp;&nbsp;&nbsp;</th>    \n",
       "    \n",
       "    <th>\n",
       "     <a href=\"./00_titresim_ve_dalgalar.ipynb\" target=\"_blank\">\n",
       "       <button>\n",
       "       <i class=\"fa fa-home fa-2x\" style=\"color: firebrick ; vertical-align: middle\"></i> Ana Sayfa\n",
       "       </button> \n",
       "     </a>\n",
       "    </th>\n",
       "    \n",
       "    <th>&nbsp;&nbsp;&nbsp;&nbsp;&nbsp;&nbsp;&nbsp;&nbsp;&nbsp;&nbsp;</th>\n",
       "    \n",
       "    <th>\n",
       "     <a href=\"./03_titresim_ve_dalgalar.ipynb\" target=\"_blank\">\n",
       "       <button>\n",
       "       Sonraki Sayfa <i class=\"fa fa-arrow-circle-right fa-2x\" style=\"color: firebrick ; vertical-align: middle\"></i>\n",
       "       </button>\n",
       "     </a>\n",
       "    </th>\n",
       "</tr>\n",
       "<!-- ######################################################### -->\n",
       "<!-- ######################################################### -->"
      ],
      "text/plain": [
       "<IPython.core.display.HTML object>"
      ]
     },
     "metadata": {},
     "output_type": "display_data"
    }
   ],
   "source": [
    "%%html\n",
    "\n",
    "<!-- ******************************************************** -->\n",
    "<!-- **************** Kod hücrelerini sakla ***************** -->\n",
    "<!-- ******************************************************** -->\n",
    "<!-- https://stackoverflow.com/questions/31517194/how-to-hide-one-specific-cell-input-or-output-in-ipython-notebook -->\n",
    "<script> \n",
    "code_show=true; \n",
    "function code_toggle() {\n",
    "    if (code_show){$('div.input').hide();} else {$('div.input').show();}\n",
    "    if (code_show){$('div.cell.code_cell.rendered.selected div.input').hide();} \n",
    "    else          {$('div.cell.code_cell.rendered.selected div.input').hide();}\n",
    "    code_show = !code_show }\n",
    "$(document).ready(code_toggle);\n",
    "</script>\n",
    "\n",
    "<a href=\"javascript:code_toggle()\" style=\"text-decoration:none\" \n",
    "class=\"btn btn-default btn-danger btn-large fa fa-toggle-on\">\n",
    "&nbsp;&nbsp;&nbsp; Kod hücrelerini, KAPAT / AÇ! </a>\n",
    "<!-- ######################################################### -->\n",
    "<!-- ######################################################### -->\n",
    "\n",
    "<!-- ********************************************************* -->\n",
    "<!-- ****** Trusted Notebookları başlangıçta çalıştır   ****** -->\n",
    "<!-- ****** jupyter trust *.ipynb                       ****** -->\n",
    "<!-- ****** ile bütün notebooklar güvenilir yapılabilir.****** -->\n",
    "<!-- ********************************************************* -->\n",
    "<!--https://stackoverflow.com/questions/31984196/ipython-notebook-run-all-cells-on-open -->\n",
    "<script>\n",
    "    // AUTORUN ALL CELLS ON NOTEBOOK-LOAD!\n",
    "    require(\n",
    "        ['base/js/namespace', 'jquery'], \n",
    "        function(jupyter, $) {\n",
    "            $(jupyter.events).on(\"kernel_ready.Kernel\", function () {\n",
    "                console.log(\"Auto-running all cells-below...\");\n",
    "                jupyter.actions.call('jupyter-notebook:run-all-cells-below');\n",
    "             // jupyter.actions.call('jupyter-notebook:save-notebook');\n",
    "            });\n",
    "        }\n",
    "    );\n",
    "</script>\n",
    "<!-- ######################################################### -->\n",
    "<!-- ######################################################### -->\n",
    "\n",
    "<!-- ******************************************************** -->\n",
    "<!-- HTML için gerekli stilleri buradan ayarla                -->\n",
    "<!-- Bu hücreyi nbextension'dan 'hide input' kullanarak sakla -->\n",
    "<!-- ******************************************************** -->\n",
    "\n",
    "<style>\n",
    "table.a, tr.a {text-align: left !important; \n",
    "         font-size: 20px;}\n",
    "\n",
    "table.b {text-align: left !important; \n",
    "         font-size: 16px;\n",
    "         margin: 0;}\n",
    "\n",
    "td.b {text-align: left !important;}\n",
    "\n",
    "li {text-align: left;}\n",
    "</style>\n",
    "<!-- ######################################################### -->\n",
    "<!-- ######################################################### -->\n",
    "\n",
    "<!-- ********************************************************* -->\n",
    "<!-- ****** Sayfa yönlendirme butonları                 ****** -->\n",
    "<!-- ********************************************************* -->\n",
    "&nbsp;&nbsp;&nbsp;&nbsp;\n",
    "<tr align='left'>\n",
    "    <th>\n",
    "     <a href=\"./01_titresim_ve_dalgalar.ipynb\" target=\"_blank\">\n",
    "       <button>\n",
    "       <i class=\"fa fa-arrow-circle-left fa-2x\" style=\"color: firebrick ; vertical-align: middle\"></i> Önceki Sayfa\n",
    "       </button> \n",
    "     </a>\n",
    "    </th>\n",
    "    \n",
    "    <th>&nbsp;&nbsp;&nbsp;&nbsp;&nbsp;&nbsp;&nbsp;&nbsp;&nbsp;&nbsp;</th>    \n",
    "    \n",
    "    <th>\n",
    "     <a href=\"./00_titresim_ve_dalgalar.ipynb\" target=\"_blank\">\n",
    "       <button>\n",
    "       <i class=\"fa fa-home fa-2x\" style=\"color: firebrick ; vertical-align: middle\"></i> Ana Sayfa\n",
    "       </button> \n",
    "     </a>\n",
    "    </th>\n",
    "    \n",
    "    <th>&nbsp;&nbsp;&nbsp;&nbsp;&nbsp;&nbsp;&nbsp;&nbsp;&nbsp;&nbsp;</th>\n",
    "    \n",
    "    <th>\n",
    "     <a href=\"./03_titresim_ve_dalgalar.ipynb\" target=\"_blank\">\n",
    "       <button>\n",
    "       Sonraki Sayfa <i class=\"fa fa-arrow-circle-right fa-2x\" style=\"color: firebrick ; vertical-align: middle\"></i>\n",
    "       </button>\n",
    "     </a>\n",
    "    </th>\n",
    "</tr>\n",
    "<!-- ######################################################### -->\n",
    "<!-- ######################################################### -->"
   ]
  },
  {
   "cell_type": "code",
   "execution_count": 2,
   "metadata": {
    "ExecuteTime": {
     "end_time": "2018-02-11T21:45:03.450562Z",
     "start_time": "2018-02-11T21:45:03.150283Z"
    },
    "hide_input": false
   },
   "outputs": [],
   "source": [
    "# ****************************************************\n",
    "# Bu Jupyter notebookta kullanılan ortak kütüphaneler.\n",
    "# ****************************************************\n",
    "from IPython.display import display, Markdown, YouTubeVideo\n",
    "from ipywidgets import interact, interactive, fixed, interact_manual, FloatSlider\n",
    "import matplotlib.ticker as tck\n",
    "import matplotlib.pyplot as plt\n",
    "import matplotlib as mpl\n",
    "import numpy as np\n",
    "%matplotlib inline\n",
    "\n",
    "params = {\n",
    "   'axes.titlesize': 24,\n",
    "   'axes.labelsize': 18,\n",
    "   'axes.labelweight': 'bold',\n",
    "   'font.size': 16, \n",
    "   'legend.fontsize': 14,\n",
    "   'xtick.labelsize': 16,\n",
    "   'xtick.major.size': 10,\n",
    "   'xtick.major.width': 1.4,\n",
    "   'xtick.minor.size': 5,\n",
    "   'xtick.minor.width': 1.4,\n",
    "   'ytick.labelsize': 16,\n",
    "   'ytick.major.size': 10,\n",
    "   'ytick.major.width': 1.4,\n",
    "   'ytick.minor.size': 5,\n",
    "   'ytick.minor.width': 1.4,    \n",
    "   'lines.linewidth': 1.6,\n",
    "   'lines.markersize': 8,\n",
    "   'text.usetex': False,\n",
    "   'mathtext.fontset': 'stix' # \\mathbf --> $\\mathbf{\\Theta_{cm}}$\n",
    "   #'text.latex.preamble': r'\\usepackage{amsmath}'\n",
    "   #'figure.figsize': [2.5, 4.5]\n",
    "}\n",
    "mpl.rcParams.update(params)"
   ]
  },
  {
   "cell_type": "markdown",
   "metadata": {},
   "source": [
    "# ÇOK SERBESTLİK DERECELİ SİSTEMLERİN SERBEST SALIMLARI\n",
    "<br>\n",
    "<font color='red' size=6 > Bu ders notu hazırlanacak... </font>\n",
    "\n",
    "![](./sekiller/funGifs/back_off_scientist_ghostbusters.gif)"
   ]
  },
  {
   "cell_type": "markdown",
   "metadata": {},
   "source": [
    "## Giriş"
   ]
  },
  {
   "cell_type": "markdown",
   "metadata": {},
   "source": [
    "- Evren ve içindeki her şey sürekli hareket halindedir.\n",
    "- Hareketli cisimler iki ana sınıfa ayrılabilirler.\n",
    "    - Başladıkları konumlara dönenler:\n",
    "        - salınan bir sarkaç\n",
    "        - titreşen bir kemen teli\n",
    "        - bardakta ileri geri çalkalanan su\n",
    "        - atom çekirdeği etrafında dolanan elektronlar\n",
    "        - aynalar arasında gidip gelen lazer ışını\n",
    "    - İlk başladıkları konumdan farklı bir konuma gidenler:\n",
    "        - buzlu yüzeyde kayan bir cisim\n",
    "        - bir ipte ilerleyen atma (puls)\n",
    "        - denizde kıyıya doğru ilerleyen dalgalar\n",
    "        - elektron tabancasından çıkıp uçan elektron\n",
    "        - bir yıldızdan gözümüze gelen ışık\n",
    "- Bazen aynı olay her iki anasınıfta da düşünülebilir.\n",
    "    - Deniz dalgaları ilerler fakat su dalgası üzerindeki bir cisim ilerlemez, bulunduğu konumda yukarı aşağı iner çıkar.\n",
    "    - İpteki atmalar ilerler ama ipin atomları bir denge noktası etrafında salınırlar.\n",
    "- Bu bölümde dışarıdan bir kere uyarıldıktan sonra bir denge konumu etrafında serbestçe salınan sistemleri inceleyeceğiz.\n",
    "- Bu tür salınımlara **serbest salınımlar** veya **doğal salınımlar** denir.\n",
    "- Birinci bölümde bir veya iki cisim içeren sistemleri inceleyeceğiz.\n",
    "- İkinci bölümde ise çok serbestlik dereceli sistemleri inceleyeceğiz. \n",
    "- Çok serbestlik dereceli bu sistemlerin **kip** (mod, öztitreşim) olarak adlandırılan bir serbestlik dereceli salınıcıya benzer yalın hareketlerinin olduğunu göreceğiz.\n",
    "- Bu tür sistemlerin genel davranışlarının bu yalın hareketlerlerin birleşimleriyle ifade edilebileceğiniz göreceğiz.\n",
    "- İncelenecek sistemler çeşitli fiziksel nicelikler olabilir ve dalga fonksiyonları aşağıdaki gibi gösterilirler.\n",
    "    - Mekanik bir sistemse genellikle, $\\Psi(x,y,zt)$\n",
    "    - Elektromanyetik bir sistemse, elektrik alan $E(x,y,z,t)$ ve manyetik alan $B(x,y,zt)$"
   ]
  },
  {
   "cell_type": "markdown",
   "metadata": {},
   "source": [
    "### Gerçek yaşamdan bazı titreşim örnekleri\n",
    "<table class='b'>\n",
    "  <tr>\n",
    "    <td><img width=300 src='./sekiller/earth_vibration_mods.gif'></td>\n",
    "    <td><img width=430 src='./sekiller/neutron_star_vibrations.png'></td>\n",
    "  </tr>\n",
    "  <tr>\n",
    "    <th>Dünyanın titreşimleri [1,2]</th>\n",
    "    <th>Neutron yıldızı titreşimleri [3]</th>\n",
    "  </tr>    \n",
    "  <tr>\n",
    "    <td><img width=300 src='./sekiller/butterfly_pupa.jpg'></td>\n",
    "    <td><img width=450 src='./sekiller/fetus_heartbeat.gif'></td>  \n",
    "  </tr>\n",
    "  <tr>\n",
    "    <th>Bir kelebeğin kalp atışları [4]</th>\n",
    "    <th>Ultrason altındaki bebeğin kalp atışları [5]</th>\n",
    "  </tr>          \n",
    "</table>"
   ]
  },
  {
   "cell_type": "markdown",
   "metadata": {},
   "source": [
    "### Bazı terimler [6, 7]    "
   ]
  },
  {
   "cell_type": "markdown",
   "metadata": {
    "ExecuteTime": {
     "end_time": "2018-02-04T15:11:13.701366Z",
     "start_time": "2018-02-04T15:11:13.689480Z"
    },
    "hide_input": true
   },
   "source": [
    "<table class='b'>\n",
    "  <tr>\n",
    "    <td>\n",
    "        <img width=300 src='./sekiller/basit_harmonik_hareket.png'>\n",
    "    </td>      \n",
    "    <td>    \n",
    "<ul>\n",
    "<li>Belirli aralıklarla tekrarlanan harekete **periyodik hareket** denir.</li><br>\n",
    "<li> Bir eksen boyunca, sabit bir nokta etrafında periyodik hareket yapan <br> cismin hareketine **titreşim hareketi** denir.</li><br>\n",
    "<li>**Dalga** ise titreşimlerin bir noktadan bir başka noktaya aktarılmasıdır.</li><br>\n",
    "<li> Parçacığı denge konumuna geri getirmeye çalışan kuvvet, uzanımla orantılı <br> ise bu titreşim hareketine **basit harmonik hareket (BHH)** denir.</li><br>\n",
    "<li> Genellikle BHH'ler $\\bf \\Psi(t) = A\\sin(\\omega t+\\phi) + B\\cos(\\omega t+\\phi)$ şeklindeki <br> **harmonik salınım** fonksiyonlarıyla ifade edilirler.</li><br>\n",
    "<li> Böyle hareket eden bir parçacığın hiç bir kuvvetin etkisinde kalmadığı konuma <br> **denge konumu** ve herhangi bir andaki konumunun denge konumuna olan <br> uzaklığına **uzanım** denir.</li><br>\n",
    "<li> En büyük (maksimum) uzanıma **genlik** denir ($\\Psi$'ın A ve B katsayıları).</li><br>\n",
    "<li> $\\bf \\omega$ rad/sn birimli *açısal frekans*tır.</li><br>\n",
    "<li> $\\bf \\nu = {\\omega \\over 2\\pi}$ Hertz (Hz $\\equiv$ sn$^{-1}$) birimli, *birim saniyedeki devir sayısı* veya *frekans*tır.</li><br> \n",
    "<li> $\\bf T = {1 \\over \\nu}$ bir peryotun tamamlanması süresi, kısaca periyot..</li><br>\n",
    "<li> $\\bf \\phi$ faz sabiti olarak adlandırılır ve birimsizdir.</li>\n",
    "</ul>  \n",
    "    </td>      \n",
    "  </tr>\n",
    "</table>"
   ]
  },
  {
   "cell_type": "markdown",
   "metadata": {},
   "source": [
    "## Bir serbestlik dereceli sistemlerin serbest salınımları"
   ]
  },
  {
   "cell_type": "markdown",
   "metadata": {},
   "source": [
    "Yukarıdaki şekilde verilen **kütle-yay** ve **ip-cisim** sistemleri bir serbestlik dereceli salınıcılardır. Çünkü denge konumundan olan uzaklıklarını sadece bir koordinatla ifade etmek mümkündür. Bu tür sistemlerin hareketi Denklem \\ref{eq:hs}'deki \"harmonik salınım\" fonksiyonu ile tanımlanabilir. Şekildeki ***LC* devresi** de bir serbestlik dereceli salınıcıdır.\n",
    "\n",
    "\\begin{equation}\n",
    "\\label{eq:hs}\n",
    "\\large\n",
    "\\Psi(t) = A\\sin(\\omega t+\\phi)\n",
    "\\end{equation}\n",
    "\n",
    "<img width=300 src='./sekiller/LC_circuit.gif'>\n",
    "\n",
    "\n",
    "**Geri çağırma ve eylemsizlik**:  \n",
    "Denklem \\ref{eq:hs} ile tanımlanan davranış bu tür sistemlerin iki özelliğinin yarışması sonucu ortaya çıkar.\n",
    "\n",
    "- geri çağırma kuvveti\n",
    "- eylemsizlik\n",
    "\n",
    "**Geri çağırma kuvveti** sistemi hep denge konumuna getirmek ister fakat denge konumuna geldiğinde sistem en yüksek hızına ulaşır. Bu noktada **eylemsizlik** (Newton'un birinci yasası) etkin hale gelir ve sistem hareketine devam etmek ister. Böylece sürekli bir **salınım hareketi** gerçekleşir.\n",
    "\n",
    "**Sönümlü salınımlar**:  \n",
    "Denklem \\ref{eq:hs} ile hareketi tanımlanan sistemler çoğu durumda gerçekçi olmayabilir. Çünkü çoğu fizikzel durumda salınımı **sönümleyecek** (sonlandıracak) kuvvetler vardır ve bunlar **sürtünme** veya **direnç** kuvvetleri olarak adlandırılırlar. Böyle sistemler için ise salınım fonksiyonu aşağıdaki gibidir.\n",
    "\n",
    "\\begin{equation}\n",
    "\\label{eq:shs}\n",
    "\\large\n",
    "\\Psi(t) = A e^{-t/2\\tau} \\cos(\\omega t+\\phi)\n",
    "\\end{equation}\n",
    "\n",
    "$\\bf \\tau$ sönme veya durulma zamanı olarak adlandırılır.\n",
    "\n"
   ]
  },
  {
   "cell_type": "markdown",
   "metadata": {},
   "source": [
    "### Harmonik salınım fonksiyonu\n",
    "\n",
    "Harmonik salınım fonksiyonuna ait parametrelerin değişimilerinin fonksiyonda ne tür değişikliklere sebep olduğunu aşağıdaki Python programını çalıştırarak inceleyebilirsiniz.\n",
    "\n",
    "Programı çalıştırmak için hücrenin kenarındaki **In[ ]** yazan kısma  tıklayın. Sonra **Shit + Enter** tuşlarını beraber kullanarak  çalıştırabilirsiniz."
   ]
  },
  {
   "cell_type": "code",
   "execution_count": 3,
   "metadata": {
    "ExecuteTime": {
     "end_time": "2018-02-11T21:45:03.745756Z",
     "start_time": "2018-02-11T21:45:03.454197Z"
    },
    "hide_input": false
   },
   "outputs": [
    {
     "data": {
      "image/png": "[encoded data removed]",
      "text/plain": [
       "<matplotlib.figure.Figure at 0x7f2227009890>"
      ]
     },
     "metadata": {},
     "output_type": "display_data"
    }
   ],
   "source": [
    "#*************************************************************\n",
    "# Gerekli kütüphaneler en üstteki Python hücresinde yüklendi.\n",
    "#*************************************************************\n",
    "\n",
    "# Harmonik salınım fonksiyonu\n",
    "def psi0(A, w, phi):\n",
    "    return A * np.sin(w*t + phi)\n",
    "\n",
    "# Zaman uzayını oluştur\n",
    "t = np.linspace(0, 4*np.pi, 75)\n",
    "\n",
    "# Fonksiyonun başlangıç hali\n",
    "y0 = psi0(1, 1, 0.)\n",
    "\n",
    "# Etkileşimli kısmı başlat\n",
    "@interact(\n",
    "    A = FloatSlider(min=0, max=2, step=2./10, value=1.0),\n",
    "    w = FloatSlider(min=0, max=2, step=2./10, value=1.0),\n",
    "    phi = FloatSlider(min=-np.pi, max=np.pi, step=np.pi/20, value=0.0, description='$\\phi$')\n",
    ") \n",
    "\n",
    "def wave0(A, w, phi):\n",
    "    plt.suptitle(r'$\\Psi(t) = A\\sin(wt+\\phi),\\;\\;\\phi = \\frac{%s}{20} \\pi$'%int(20*phi/(np.pi)), fontsize=18, y=1.0)\n",
    "    plt.grid()\n",
    "    plt.plot(t, psi0(A, w, phi),'b', lw=3)\n",
    "    plt.plot(t, y0, 'r--', lw=3)\n",
    "    plt.xlabel('t', fontsize=18)\n",
    "    plt.ylabel('$\\Psi(t)$', fontsize=18)\n",
    "    plt.ylim(-2,2)\n",
    "    plt.show()"
   ]
  },
  {
   "cell_type": "markdown",
   "metadata": {},
   "source": [
    "### Sönümlü salınım fonksiyonu\n",
    "\n",
    "Sönümlü salınım fonksiyonuna ait parametrelerin değişimilerinin fonksiyonda ne tür değişikliklere sebep olduğunu aşağıdaki Python programını çalıştırarak inceleyebilirsiniz.\n",
    "\n",
    "Programı çalıştırmak için hücrenin kenarındaki **In[ ]** yazan kısma  tıklayın. Sonra **Shit + Enter** tuşlarını beraber kullanarak  çalıştırabilirsiniz."
   ]
  },
  {
   "cell_type": "code",
   "execution_count": 4,
   "metadata": {
    "ExecuteTime": {
     "end_time": "2018-02-11T21:45:04.005953Z",
     "start_time": "2018-02-11T21:45:03.747892Z"
    },
    "hide_input": true
   },
   "outputs": [
    {
     "data": {
      "image/png": "[encoded data removed]",
      "text/plain": [
       "<matplotlib.figure.Figure at 0x7f2227003110>"
      ]
     },
     "metadata": {},
     "output_type": "display_data"
    }
   ],
   "source": [
    "#*************************************************************\n",
    "# Gerekli kütüphaneler en üstteki Python hücresinde yüklendi.\n",
    "#*************************************************************\n",
    "\n",
    "# Harmonik salınım fonksiyonu\n",
    "def psi1(A, w, tau, phi):\n",
    "    return A * np.exp(-t/2/tau)*np.cos(w*t + phi)\n",
    "\n",
    "# Zaman uzayını oluştur\n",
    "t = np.linspace(0, 4*np.pi, 75)\n",
    "\n",
    "# Fonksiyonun başlangıç hali\n",
    "y1 = psi1(1, 1, 2.77, 0.)\n",
    "\n",
    "# Etkileşimli kısmı başlat\n",
    "@interact(\n",
    "    A = FloatSlider(min=0, max=2, step=2./10, value=1.0),\n",
    "    w = FloatSlider(min=0, max=2, step=2./10, value=1.0),\n",
    "    tau = FloatSlider(min=.1, max=80.1, step=80./30, value=2.77),\n",
    "    phi = FloatSlider(min=-np.pi, max=np.pi, step=np.pi/20, value=0.0, description='$\\phi$')\n",
    ") \n",
    "\n",
    "def wave1(A, w, tau, phi):\n",
    "    plt.suptitle(r'$\\Psi(t) = A e^{-t/2\\tau} \\cos(wt+\\phi),\\;\\;\\phi = \\frac{%s}{20} \\pi$'%int(20*phi/(np.pi)), fontsize=18, y=1.0)\n",
    "    plt.grid()\n",
    "    plt.plot(t, psi1(A, w, tau, phi),'b', lw=3)\n",
    "    plt.plot(t, y1, 'r--', lw=3)\n",
    "    plt.xlabel('t', fontsize=18)\n",
    "    plt.ylabel('$\\Psi(t)$', fontsize=18)\n",
    "    plt.ylim(-2,2)\n",
    "    plt.show()"
   ]
  },
  {
   "cell_type": "markdown",
   "metadata": {},
   "source": [
    "### Kütle yay sistemi"
   ]
  },
  {
   "cell_type": "markdown",
   "metadata": {},
   "source": [
    "<table width=\"900px\" height=\"100%\" border=\"1\" class='b'>\n",
    "<tr>\n",
    "<td class='b'>\n",
    "    <img width='300' src='./sekiller/Harmonic_oscillator.png'/>\n",
    "    Kütl-yay sistemi [8].\n",
    "</td>   \n",
    "<td width='600' class='b'> \n",
    "<br>    \n",
    "Kütle-yay sistemi bir serbestlik dereceli sistemlere verilebilecek en kolay fakat en önemli örneklerden birisidir. Kütle-yay sistemi basit harmonik hareket (BHH) davranışı gösterir. Sistem x=0'daki denge konumundan bir kere uzaklaştırıldığında (eğer dışarıdan etkiyle durdurulmazsa) sonsuza kadar denge noktasına gider ve gelir. Bu hareket BHH olarak adlandırılır. Şekildeki gibi bir mekanik sistemde BHH'nin gerçekleşmesi için bir kaç ön kabul yapmak gerekir.\n",
    "<br>    \n",
    "<li>Yay kütlesizdir veya yayın kütlesi cismin kütlesi yanında çok küçüktür.</li>\n",
    "<li>Cisim ve hareket ettiği yüzey arasında sürtünme yoktur.</li>\n",
    "<li>Yay Hooke yasasına uygun davranır: yay üzerinde oluşan kuvvet sıkıştırılma veya genleştirilme miktarıyla doğru orantılıdır.</li>    \n",
    "<br>\n",
    "Bu kabuller altında yay tarafından kütleye uygulanan kuvvet herhangi bir anda,\n",
    "\n",
    "\\begin{equation}\n",
    "\\label{eq:yay}\n",
    "\\large\n",
    "\\vec F_{yay} = - k \\vec x\n",
    "\\end{equation}\n",
    "<br>\n",
    "ile verilir, burada **k** yay (kuvvet) sabitidir ve birimi Newton/metre (N/m)'dir. Cismin üzerindeki hareketi sağlayan tek kuvvet yay kuvveti olduğundan, Newtonun ikinci yasası uygulanırsa,\n",
    "\n",
    "\\begin{equation}\n",
    "\\label{eq:yayNewton}\n",
    "\\large\n",
    "\\Sigma \\vec F = m \\vec a \\\\\n",
    "\\large\n",
    "\\Sigma \\vec F = \\vec F_{yay}  \\\\\n",
    "\\large\n",
    " m \\vec a = - k \\vec x\n",
    "\\end{equation}\n",
    "<br>\n",
    "elde edilir. $\\vec a$ ivme vektörünün, konum vektörü $\\vec x$ zamana göre ikinci türevi olduğu hatırlanırsa ve denklem yeniden düzenlenirse,\n",
    "</td>\n",
    "</tr>\n",
    "</table>\n",
    "\n",
    "<table width=\"900px\" height=\"100%\" border=\"1\" class='b'>\n",
    "<tr>\n",
    "<td width='600' class='b'> \n",
    "\\begin{equation}\n",
    "\\label{eq:yayDiff}\n",
    "\\large\n",
    "\\frac{d^2\\vec x}{dt^2} + \\frac{k}{m}\\vec x = 0\n",
    " \\end{equation}\n",
    "<br> \n",
    "ikinci dereceden lineer bir diferansiyel denklem elde edilir. Bu denklem aşağıdaki formda da yazılabilir. Bu tür denklemler BHH diferansiyel denklemleri olarak adlandırılır.\n",
    "\n",
    "\\begin{equation}\n",
    "\\label{eq:yayDiff2}\n",
    "\\large\n",
    "\\ddot{\\vec x} + \\omega^2\\vec x = 0\n",
    "\\end{equation}\n",
    " \n",
    "Burada $\\ddot{\\vec x} \\equiv \\frac{d^2\\vec x}{dt^2}$  ve $\\omega^2 \\equiv {k \\over m}$ 'dir. $\\omega^2$ birim kütle ve birim uzunluk başına geri çağırıcı kuvvettir. Basit bir incelemeyle,\n",
    "\n",
    "\\begin{equation}\n",
    "\\label{eq:omega}\n",
    "\\large\n",
    "\\frac{F_{yay}}{m x} = k/m = \\omega^2\n",
    "\\end{equation}\n",
    "<br>\n",
    "olduğu görülür. BHH diferansiyel denkleminin genel çözümü aşağıdaki gibidir.\n",
    "<br><br>\n",
    "\\begin{equation}\n",
    "\\label{eq:yayCozum}\n",
    "\\large\n",
    "x(t) = a \\cos(\\omega t) + b \\sin(\\omega t)\n",
    "\\end{equation}\n",
    "<br>\n",
    "$a = A \\cos(\\phi)$ ve $b = -A\\sin(\\phi)$ seçilirse çözüm,\n",
    "<br><br>\n",
    "\\begin{equation}\n",
    "\\label{eq:yayCozum1}\n",
    "\\large\n",
    "x(t) = A \\cos(\\omega t + \\phi)\n",
    "\\end{equation}\n",
    "<br>\n",
    "halini alır. $a = A \\sin(\\phi)$ ve $b = A\\cos(\\phi)$ seçilirse çözüm,\n",
    "<br><br>\n",
    "\\begin{equation}\n",
    "\\label{eq:yayCozum2}\n",
    "\\large\n",
    "x(t) = A \\sin(\\omega t + \\phi)\n",
    "\\end{equation}\n",
    "<br>\n",
    "halini alır. Burada $A$ kütle-yay sisteminde kütlenin denge konumuna göre yer değiştirmesinin en büyük olduğu konumları belirler ($x = \\pm A$). $\\bf \\phi$ ise ***faz farkı*** olarak adlandırılır. **A** ve $\\omega$ değerleri özdeş iki kütle-yay sistemi aynı anda aynı konumda bulunmaya bilirler, **faz farkı** bu farklılığı hesaba katar. Hem **A** hem de $\\bf \\phi$, seçilen ve bilinen bir başlangıç değeri için BHH diferansiyel denkleminin genel çözümünün kullanılmasıyla belirlenirler. $\\bf \\omega$ sistemin açısal frekansıdır ve hem **A** hem de $\\bf \\phi$'den farklı olarak sistemin başlangıç şartlarından bağımsızdır. Sistemin kendi yapısal özelliklerine bağlıdır ve kütle yay sistemi için ($\\omega = \\sqrt{k/m}$) yay sabiti **k** ve cismin kütlesi **m** ile belirlenir. Sistemin yer değiştirmes, hızı ve ivmesinin zamanla değişimi aşağıdaki örnekte incelenebilir.\n",
    "\n",
    "\n",
    "\n",
    "\n",
    "<br> \n",
    "</td>\n",
    "</tr>\n",
    "</table>\n",
    "\n",
    "\n",
    "\n"
   ]
  },
  {
   "cell_type": "code",
   "execution_count": 5,
   "metadata": {
    "ExecuteTime": {
     "end_time": "2018-02-11T21:45:04.622777Z",
     "start_time": "2018-02-11T21:45:04.009172Z"
    }
   },
   "outputs": [
    {
     "data": {
      "image/png": "[encoded data removed]",
      "text/plain": [
       "<matplotlib.figure.Figure at 0x7f2226fc9d50>"
      ]
     },
     "metadata": {},
     "output_type": "display_data"
    }
   ],
   "source": [
    "#*************************************************************\n",
    "# Gerekli kütüphaneler en üstteki Python hücresinde yüklendi.\n",
    "#*************************************************************\n",
    "\n",
    "# Harmonik salınım fonksiyonu\n",
    "def psi2(A, w, phi):\n",
    "    return A * np.cos(w*t + phi)\n",
    "\n",
    "def dpsi2(A, w, phi):\n",
    "    return -w * A * np.sin(w*t + phi)\n",
    "\n",
    "def ddpsi2(A, w, phi):\n",
    "    return -w**2 * A * np.cos(w*t + phi)\n",
    "\n",
    "# Zaman uzayını oluştur\n",
    "t = np.linspace(0, 4*np.pi, 75)\n",
    "\n",
    "# Fonksiyonun başlangıç hali\n",
    "y2 = psi2(1, 1, 0.)\n",
    "dy2 = dpsi2(1, 1, 0.)\n",
    "ddy2 = ddpsi2(1, 1, 0.)\n",
    "\n",
    "\n",
    "plt.close('all')\n",
    "\n",
    "# Etkileşimli kısmı başlat\n",
    "@interact(\n",
    "    A = FloatSlider(min=0, max=2, step=2./10, value=1.0),\n",
    "    w = FloatSlider(min=0, max=2, step=2./10, value=1.0, description='$\\omega$'),\n",
    "    phi = FloatSlider(min=-np.pi, max=np.pi, step=np.pi/20, value=0.0, description='$\\phi$'),\n",
    "    tv = FloatSlider(min=0, max=4*np.pi, step= np.pi/4, value=2*np.pi, description='t')\n",
    ") \n",
    "\n",
    "def wave2(A, w, phi, tv):\n",
    "    #plt.suptitle(r'$x(t) = A\\;\\sin(wt+\\phi),\\;\\;\\phi = \\frac{%s}{20} \\pi$'%int(20*phi/(np.pi)), fontsize=18, y=1.0) \n",
    "    f, (ax1, ax2, ax3) = plt.subplots(3, sharex=True, sharey=True, figsize=(6,9))\n",
    "    ax1.plot(t/np.pi, psi2(A, w, phi), lw=3)\n",
    "    ax2.plot(t/np.pi, dpsi2(A, w, phi), lw=3)\n",
    "    ax3.plot(t/np.pi, ddpsi2(A, w, phi), lw=3)\n",
    "    ax1.plot(t/np.pi, y2, 'r--', lw=3)\n",
    "    ax2.plot(t/np.pi, dy2, 'r--', lw=3)\n",
    "    ax3.plot(t/np.pi, ddy2, 'r--', lw=3)\n",
    "    ax1.text(4.25, 0, r'$x(t) = A\\;\\cos(wt+\\phi)$', fontsize=24, horizontalalignment='left', verticalalignment='center')\n",
    "    ax2.text(4.25, 0, r'$v(t) = \\frac{dx}{dt} = -\\omega A\\;\\sin(wt+\\phi)$', fontsize=24, horizontalalignment='left', verticalalignment='center')\n",
    "    ax3.text(4.25, 0, r'$a(t)  = \\frac{dv}{dt} = -\\omega^2 A\\;\\cos(wt+\\phi)$', fontsize=24, horizontalalignment='left', verticalalignment='center')\n",
    "    # formulas\n",
    "    # shared axes\n",
    "    ax1.xaxis.set_major_formatter(tck.FormatStrFormatter('%g $\\pi$'))\n",
    "    ax1.xaxis.set_major_locator(tck.MultipleLocator(base=.5))\n",
    "    f.subplots_adjust(hspace=0)\n",
    "    plt.setp([a.get_xticklabels() for a in f.axes[:-1]], visible=False)\n",
    "    # set y limit\n",
    "    plt.ylim(-2,2)\n",
    "    # set labels\n",
    "    plt.xlabel('t', fontsize=18)    \n",
    "    ax1.set_ylabel('x(t)', fontsize=18)\n",
    "    ax2.set_ylabel('v(t)', fontsize=18)\n",
    "    ax3.set_ylabel('a(t)', fontsize=18)\n",
    "    # draw y=0 or x-coordinate line\n",
    "    ax1.axhline(color='black')\n",
    "    ax2.axhline(color='black')\n",
    "    ax3.axhline(color='black')\n",
    "    ax1.axvline(x=tv/np.pi, color='orange', lw=2)\n",
    "    ax2.axvline(x=tv/np.pi, color='orange', lw=2)\n",
    "    ax3.axvline(x=tv/np.pi, color='orange', lw=2)\n",
    "    # draw grids\n",
    "    ax1.grid()\n",
    "    ax2.grid()\n",
    "    ax3.grid()\n",
    "    plt.show()"
   ]
  },
  {
   "cell_type": "markdown",
   "metadata": {},
   "source": [
    "### Düzgün dairesel harket ve BHH benzerliği"
   ]
  },
  {
   "cell_type": "code",
   "execution_count": 6,
   "metadata": {
    "ExecuteTime": {
     "end_time": "2018-02-11T21:45:04.978531Z",
     "start_time": "2018-02-11T21:45:04.624900Z"
    },
    "scrolled": true
   },
   "outputs": [
    {
     "data": {
      "text/markdown": [
       "Simple Harmonic Motion: Crash Course Physics #16"
      ],
      "text/plain": [
       "<IPython.core.display.Markdown object>"
      ]
     },
     "metadata": {},
     "output_type": "display_data"
    },
    {
     "data": {
      "image/jpeg": "[encoded data removed]",
      "text/html": [
       "\n",
       "        <iframe\n",
       "            width=\"400\"\n",
       "            height=\"300\"\n",
       "            src=\"https://www.youtube.com/embed/jxstE6A_CYQ\"\n",
       "            frameborder=\"0\"\n",
       "            allowfullscreen\n",
       "        ></iframe>\n",
       "        "
      ],
      "text/plain": [
       "<IPython.lib.display.YouTubeVideo at 0x7f2226ff1ad0>"
      ]
     },
     "metadata": {},
     "output_type": "display_data"
    }
   ],
   "source": [
    "display(\n",
    "    Markdown(\"Simple Harmonic Motion: Crash Course Physics #16\"), \n",
    "    YouTubeVideo('jxstE6A_CYQ')\n",
    ")"
   ]
  },
  {
   "cell_type": "markdown",
   "metadata": {},
   "source": [
    "### Basit Sarkaç"
   ]
  },
  {
   "cell_type": "markdown",
   "metadata": {},
   "source": [
    "<table class='b'>\n",
    "  <tr>\n",
    "    <td><img width=380 src= './sekiller/Oscillating_pendulum.gif'></td>\n",
    "    <td><img width=200 src='./sekiller/PenduloTmg.gif'></td>\n",
    "  </tr>\n",
    "  <tr>\n",
    "    <th>Basit sarkaç, hız ve ivme davranışı [9]</th>\n",
    "    <th>Basit sarkaç, kütleli cisim <br>üzerindeki kuvvetler [10]</th>\n",
    "  </tr>            \n",
    "</table>"
   ]
  },
  {
   "cell_type": "code",
   "execution_count": null,
   "metadata": {},
   "outputs": [],
   "source": []
  },
  {
   "cell_type": "markdown",
   "metadata": {},
   "source": [
    "## Kaynaklar\n",
    "1. https://www.britannica.com/science/natural-vibration\n",
    "2. [Deep Interior of the Earth, J.A. Jacobs](https://books.google.com.tr/books?id=Pmh-j_EoDqMC&lpg=PA29&ots=YhFCrrb01h&dq=earth%200t2%20vibration&hl=tr&pg=PA30#v=onepage&q=earth%200t2%20vibration&f=false)\n",
    "\n",
    "3. [Luciano Rezzolla, Prof. Dr.\n",
    "Chair of Theoretical Astrophysics, Institute of Theoretical Physics, Frankfurt, Germany](https://astro.uni-frankfurt.de/rezzolla/research/neutron-star-physics/)\n",
    "4. [Dynamic mechanical oscillations during metamorphosis of the monarch butterfly, A.E. Pelling, P.R. Wilkinson, R. Stringer, J.K. Gimzewski, J. R. Soc. Interface(2009)6, 29–37.](http://rsif.royalsocietypublishing.org/content/6/30/29)\n",
    "5. [Ultrasound Baby Heartbeat (https://makeagif.com)](https://makeagif.com/gif/ultrasound-baby-heartbeat-nmZVEd?)  \n",
    "[Ultrasound Baby Heartbeat, Videosu.](https://www.youtube.com/watch?v=xpp3vrn8BnM)\n",
    "6. **Dalgalar**, Frank S. Crawford jr., Berkeley Fizik Dersleri 3. Cilt, Bilim Yayınevi.\n",
    "7. [Dr. Mustafa POLAT'ın Titreşim ve Dalgar Ders Notu.](http://yunus.hacettepe.edu.tr/~polat/FIZ217-DERS-NOTLARI.pdf)\n",
    "8. Harmonic oscillator, https://commons.wikimedia.org/wiki/File:Harmonic_oscillator.svg.\n",
    "9. Oscillating pendulum, https://commons.wikimedia.org/wiki/File:Oscillating_pendulum.gif.\n",
    "10. Pendulum forces, https://commons.wikimedia.org/wiki/File:PenduloTmg.gif."
   ]
  },
  {
   "cell_type": "code",
   "execution_count": 7,
   "metadata": {
    "ExecuteTime": {
     "end_time": "2018-02-11T21:45:12.801560Z",
     "start_time": "2018-02-11T21:45:12.789447Z"
    },
    "hide_input": true
   },
   "outputs": [
    {
     "data": {
      "text/html": [
       "<!--<iframe width=400 height=300 src='http://phet.colorado.edu/sims/pendulum-lab/pendulum-lab_tr.html'/> --!>\n",
       "\n",
       "<a href=\"http://phet.colorado.edu/sims/mass-spring-lab/mass-spring-lab_tr.html\" target=\"_blank\">\n",
       "<img style=\"border: none;\" src=\"http://phet.colorado.edu/sims/mass-spring-lab/mass-spring-lab-600.png\" \n",
       "alt=\"Masses &amp; Springs screenshot.\" width=\"300\" height=\"197\">\n",
       "</a>\n",
       "\n",
       "\n",
       "<a href=\"http://phet.colorado.edu/sims/html/wave-on-a-string/latest/wave-on-a-string_tr.html\" target=\"_blank\">\n",
       "<img style=\"border: none;\" src=\"http://phet.colorado.edu/sims/html/wave-on-a-string/latest/wave-on-a-string-600.png\" \n",
       "alt=\"Masses &amp; Springs screenshot.\" width=\"300\" height=\"197\">\n",
       "</a>"
      ],
      "text/plain": [
       "<IPython.core.display.HTML object>"
      ]
     },
     "metadata": {},
     "output_type": "display_data"
    }
   ],
   "source": [
    "%%html\n",
    "<!--<iframe width=400 height=300 src='http://phet.colorado.edu/sims/pendulum-lab/pendulum-lab_tr.html'/> --!>\n",
    "\n",
    "<a href=\"http://phet.colorado.edu/sims/mass-spring-lab/mass-spring-lab_tr.html\" target=\"_blank\">\n",
    "<img style=\"border: none;\" src=\"http://phet.colorado.edu/sims/mass-spring-lab/mass-spring-lab-600.png\" \n",
    "alt=\"Masses &amp; Springs screenshot.\" width=\"300\" height=\"197\">\n",
    "</a>\n",
    "\n",
    "\n",
    "<a href=\"http://phet.colorado.edu/sims/html/wave-on-a-string/latest/wave-on-a-string_tr.html\" target=\"_blank\">\n",
    "<img style=\"border: none;\" src=\"http://phet.colorado.edu/sims/html/wave-on-a-string/latest/wave-on-a-string-600.png\" \n",
    "alt=\"Masses &amp; Springs screenshot.\" width=\"300\" height=\"197\">\n",
    "</a>"
   ]
  },
  {
   "cell_type": "code",
   "execution_count": null,
   "metadata": {},
   "outputs": [],
   "source": [
    "from vpython import *\n",
    "\n",
    "# Bruce Sherwood, August 2011; GlowScript VPython version November 2014; Jupyter VPython version Feb. 2016\n",
    "\n",
    "scene.title = \"A display of most VPython 3D objects\"\n",
    "scene.width = 640\n",
    "scene.height = 400\n",
    "#scene.range = 5\n",
    "scene.background = color.gray(0.7)\n",
    "scene.center = vector(0,0.5,0)\n",
    "scene.forward = vector(-.3,0,-1)\n",
    "gslabel = label(pos=vector(1.1,2,0), text='VPython', xoffset=40, height=16, color=color.yellow)\n",
    "box(pos=vector(-2,0,0), size=vector(.3,2.5,2.5), color=color.red)\n",
    "box(pos=vector(.25,-1.4,0), size=vector(4.8,.3,2.5), color=color.red)\n",
    "cylinder(pos=vector(-2,2,1.25), radius=0.7, axis=vector(0,0,-2.5), color=color.blue)\n",
    "ball = sphere(pos=vector(2,1,0), radius=0.5, color=color.cyan)\n",
    "ptr = arrow(pos=vector(0,0,2), axis=vector(2,0,0), color=color.yellow)\n",
    "cone(pos=vector(-2,0,0), radius=1, length=3, color=color.green, opacity=0.5)\n",
    "ring(pos=vector(.2,0,0), radius=.6, axis=vector(1,0,0), thickness=0.12, color=color.gray(0.4))\n",
    "ellipsoid(pos=vector(-.3,2,0), color=color.orange, size=vector(.3,1.5,1.5))\n",
    "pyramid(pos=vector(.3,2,0), color=vector(0,0.5,.25), size=vector(0.8,1.2,1.2))\n",
    "spring = helix(pos=vector(2,-1.25,0), radius=0.3, axis=vector(0,1.8,0), color=color.orange, thickness=.1)\n",
    "angle = 0\n",
    "da = .01\n",
    "\n",
    "trail = curve(color=color.magenta, radius= .02)\n",
    "trail.append(vector(1,0,0))\n",
    "trail.append(vector(1,0,2))\n",
    "trail.append(vector(2,0,2))\n",
    "\n",
    "while angle < 3*pi/4:\n",
    "  rate(100)\n",
    "  ptr.rotate(angle=da, axis=vector(0,0,1), origin=ptr.pos)\n",
    "  trail.append(ptr.pos+ptr.axis)\n",
    "  angle += da\n",
    "    \n",
    "sleep(1) # sleep for 1 second\n",
    "scene.autoscale = False\n",
    "\n",
    "t = 0\n",
    "dt = .01\n",
    "y0 = gslabel.pos.y\n",
    "ball_yo = ball.pos.y\n",
    "while t < 4:\n",
    "  rate(1/dt)\n",
    "  ball.pos.y = ball_yo+0.5*sin(-4*t)\n",
    "  spring.length = ball.pos.y-spring.pos.y-ball.radius+0.15\n",
    "  gslabel.yoffset = 28*sin(-4*t)\n",
    "  t += dt\n",
    "\n",
    "scene.append_to_caption(\"\"\"Drag the mouse and you'll drag a sphere.\n",
    "On a touch screen, press and hold, then drag.\"\"\")\n",
    "\n",
    "s = sphere(color=color.magenta, radius=0.3, visible=False)\n",
    "drag = False\n",
    "\n",
    "def down(ev):\n",
    "    global drag\n",
    "    s.pos = ev.pos\n",
    "    s.visible = True\n",
    "    drag = True\n",
    "\n",
    "def move(ev):\n",
    "    global drag\n",
    "    if not drag: return\n",
    "    s.pos = ev.pos\n",
    "\n",
    "def up(ev):\n",
    "    global drag\n",
    "    s.visible = False\n",
    "    drag = False\n",
    "\n",
    "scene.bind(\"mousedown\", down)\n",
    "\n",
    "scene.bind(\"mousemove\", move)\n",
    "\n",
    "scene.bind(\"mouseup\", up)"
   ]
  }
 ],
 "metadata": {
  "hide_input": false,
  "kernelspec": {
   "display_name": "Python 2",
   "language": "python",
   "name": "python2"
  },
  "language_info": {
   "codemirror_mode": {
    "name": "ipython",
    "version": 2
   },
   "file_extension": ".py",
   "mimetype": "text/x-python",
   "name": "python",
   "nbconvert_exporter": "python",
   "pygments_lexer": "ipython2",
   "version": "2.7.6"
  },
  "toc": {
   "collapse_to_match_collapsible_headings": true,
   "colors": {
    "hover_highlight": "#DAA520",
    "running_highlight": "#FF0000",
    "selected_highlight": "#FFD700"
   },
   "moveMenuLeft": true,
   "nav_menu": {
    "height": "48px",
    "width": "252px"
   },
   "navigate_menu": true,
   "number_sections": true,
   "sideBar": true,
   "threshold": 4,
   "title_cell": "İçindekiler",
   "toc_cell": false,
   "toc_position": {
    "height": "675px",
    "left": "0px",
    "right": "793px",
    "top": "160px",
    "width": "252px"
   },
   "toc_section_display": "block",
   "toc_window_display": true
  },
  "varInspector": {
   "cols": {
    "lenName": 16,
    "lenType": 16,
    "lenVar": 40
   },
   "kernels_config": {
    "python": {
     "delete_cmd_postfix": "",
     "delete_cmd_prefix": "del ",
     "library": "var_list.py",
     "varRefreshCmd": "print(var_dic_list())"
    },
    "r": {
     "delete_cmd_postfix": ") ",
     "delete_cmd_prefix": "rm(",
     "library": "var_list.r",
     "varRefreshCmd": "cat(var_dic_list()) "
    }
   },
   "types_to_exclude": [
    "module",
    "function",
    "builtin_function_or_method",
    "instance",
    "_Feature"
   ],
   "window_display": false
  }
 },
 "nbformat": 4,
 "nbformat_minor": 2
}
